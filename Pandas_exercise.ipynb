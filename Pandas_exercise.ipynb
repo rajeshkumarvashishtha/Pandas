{
  "nbformat": 4,
  "nbformat_minor": 0,
  "metadata": {
    "colab": {
      "name": "Pandas_exercise.ipynb",
      "provenance": [],
      "collapsed_sections": []
    },
    "kernelspec": {
      "name": "python3",
      "display_name": "Python 3"
    }
  },
  "cells": [
    {
      "cell_type": "code",
      "metadata": {
        "id": "2_3bUJ_j0Pfn",
        "colab_type": "code",
        "colab": {}
      },
      "source": [
        "#The goal if this notebook is to provide beginners with a \n",
        "quick tour of the typical pandas (Python library) operations. \n",
        "These operations are commonly performed during data-preprocessing \n",
        "steps for any Machine Learning / Deep learning based model. \n",
        "I am sure you will be able to quickly and easily grasp the concepts demonstrated \n",
        "in this notebook."
      ],
      "execution_count": 0,
      "outputs": []
    },
    {
      "cell_type": "code",
      "metadata": {
        "id": "lh0d6kBJ0sPX",
        "colab_type": "code",
        "colab": {
          "base_uri": "https://localhost:8080/",
          "height": 122
        },
        "outputId": "59542643-9990-40ea-ea37-b7014b169810"
      },
      "source": [
        "#1. How to install pandas packge using command\n",
        "!pip install pandas"
      ],
      "execution_count": 2,
      "outputs": [
        {
          "output_type": "stream",
          "text": [
            "Requirement already satisfied: pandas in /usr/local/lib/python3.6/dist-packages (1.0.3)\n",
            "Requirement already satisfied: pytz>=2017.2 in /usr/local/lib/python3.6/dist-packages (from pandas) (2018.9)\n",
            "Requirement already satisfied: python-dateutil>=2.6.1 in /usr/local/lib/python3.6/dist-packages (from pandas) (2.8.1)\n",
            "Requirement already satisfied: numpy>=1.13.3 in /usr/local/lib/python3.6/dist-packages (from pandas) (1.18.3)\n",
            "Requirement already satisfied: six>=1.5 in /usr/local/lib/python3.6/dist-packages (from python-dateutil>=2.6.1->pandas) (1.12.0)\n"
          ],
          "name": "stdout"
        }
      ]
    },
    {
      "cell_type": "code",
      "metadata": {
        "id": "ba7iCnAE1o67",
        "colab_type": "code",
        "colab": {}
      },
      "source": [
        "#import pandas package as pd\n",
        "import pandas as pd\n",
        "import numpy as np"
      ],
      "execution_count": 0,
      "outputs": []
    },
    {
      "cell_type": "code",
      "metadata": {
        "id": "FjyRgadp07mW",
        "colab_type": "code",
        "colab": {
          "base_uri": "https://localhost:8080/",
          "height": 34
        },
        "outputId": "1249bb11-f090-4c02-8133-b817c047c9e7"
      },
      "source": [
        "#Print Pandas version using print\n",
        "print(pd.__version__)"
      ],
      "execution_count": 4,
      "outputs": [
        {
          "output_type": "stream",
          "text": [
            "1.0.3\n"
          ],
          "name": "stdout"
        }
      ]
    },
    {
      "cell_type": "code",
      "metadata": {
        "id": "oTFgbR3i4d7g",
        "colab_type": "code",
        "colab": {}
      },
      "source": [
        "#how to get documentaion of pandas\n"
      ],
      "execution_count": 0,
      "outputs": []
    },
    {
      "cell_type": "code",
      "metadata": {
        "id": "LItaZyvF14Pg",
        "colab_type": "code",
        "colab": {}
      },
      "source": [
        "#create an empty data frame\n",
        "df=pd.DataFrame([['a1','b1'],['a2','b2'],['a3','b3'],['a3','b4']],columns=['a','b'])"
      ],
      "execution_count": 0,
      "outputs": []
    },
    {
      "cell_type": "code",
      "metadata": {
        "id": "1gWw8J102I4R",
        "colab_type": "code",
        "colab": {
          "base_uri": "https://localhost:8080/",
          "height": 173
        },
        "outputId": "016f61e4-8425-45fa-e53b-d3fcbf144417"
      },
      "source": [
        "df.head()"
      ],
      "execution_count": 6,
      "outputs": [
        {
          "output_type": "execute_result",
          "data": {
            "text/html": [
              "<div>\n",
              "<style scoped>\n",
              "    .dataframe tbody tr th:only-of-type {\n",
              "        vertical-align: middle;\n",
              "    }\n",
              "\n",
              "    .dataframe tbody tr th {\n",
              "        vertical-align: top;\n",
              "    }\n",
              "\n",
              "    .dataframe thead th {\n",
              "        text-align: right;\n",
              "    }\n",
              "</style>\n",
              "<table border=\"1\" class=\"dataframe\">\n",
              "  <thead>\n",
              "    <tr style=\"text-align: right;\">\n",
              "      <th></th>\n",
              "      <th>a</th>\n",
              "      <th>b</th>\n",
              "    </tr>\n",
              "  </thead>\n",
              "  <tbody>\n",
              "    <tr>\n",
              "      <th>0</th>\n",
              "      <td>a1</td>\n",
              "      <td>b1</td>\n",
              "    </tr>\n",
              "    <tr>\n",
              "      <th>1</th>\n",
              "      <td>a2</td>\n",
              "      <td>b2</td>\n",
              "    </tr>\n",
              "    <tr>\n",
              "      <th>2</th>\n",
              "      <td>a3</td>\n",
              "      <td>b3</td>\n",
              "    </tr>\n",
              "    <tr>\n",
              "      <th>3</th>\n",
              "      <td>a3</td>\n",
              "      <td>b4</td>\n",
              "    </tr>\n",
              "  </tbody>\n",
              "</table>\n",
              "</div>"
            ],
            "text/plain": [
              "    a   b\n",
              "0  a1  b1\n",
              "1  a2  b2\n",
              "2  a3  b3\n",
              "3  a3  b4"
            ]
          },
          "metadata": {
            "tags": []
          },
          "execution_count": 6
        }
      ]
    },
    {
      "cell_type": "code",
      "metadata": {
        "id": "kgDZJDJoWI8R",
        "colab_type": "code",
        "colab": {
          "base_uri": "https://localhost:8080/",
          "height": 111
        },
        "outputId": "73bb547b-c546-4242-bdb6-f026d9ca3f8c"
      },
      "source": [
        "#title Default title text\n",
        "# convert 2 dimention list to data frame\n",
        "#let a be a 2-d list which are having 4 columns and 2 row\n",
        "a=[[1,2,3,4],[4,5,6,7]]\n",
        "df1=pd.DataFrame(a,columns=['col1','col2','col3','col4'])\n",
        "df1.head(4)"
      ],
      "execution_count": 7,
      "outputs": [
        {
          "output_type": "execute_result",
          "data": {
            "text/html": [
              "<div>\n",
              "<style scoped>\n",
              "    .dataframe tbody tr th:only-of-type {\n",
              "        vertical-align: middle;\n",
              "    }\n",
              "\n",
              "    .dataframe tbody tr th {\n",
              "        vertical-align: top;\n",
              "    }\n",
              "\n",
              "    .dataframe thead th {\n",
              "        text-align: right;\n",
              "    }\n",
              "</style>\n",
              "<table border=\"1\" class=\"dataframe\">\n",
              "  <thead>\n",
              "    <tr style=\"text-align: right;\">\n",
              "      <th></th>\n",
              "      <th>col1</th>\n",
              "      <th>col2</th>\n",
              "      <th>col3</th>\n",
              "      <th>col4</th>\n",
              "    </tr>\n",
              "  </thead>\n",
              "  <tbody>\n",
              "    <tr>\n",
              "      <th>0</th>\n",
              "      <td>1</td>\n",
              "      <td>2</td>\n",
              "      <td>3</td>\n",
              "      <td>4</td>\n",
              "    </tr>\n",
              "    <tr>\n",
              "      <th>1</th>\n",
              "      <td>4</td>\n",
              "      <td>5</td>\n",
              "      <td>6</td>\n",
              "      <td>7</td>\n",
              "    </tr>\n",
              "  </tbody>\n",
              "</table>\n",
              "</div>"
            ],
            "text/plain": [
              "   col1  col2  col3  col4\n",
              "0     1     2     3     4\n",
              "1     4     5     6     7"
            ]
          },
          "metadata": {
            "tags": []
          },
          "execution_count": 7
        }
      ]
    },
    {
      "cell_type": "code",
      "metadata": {
        "id": "PocCEUqn3nvJ",
        "colab_type": "code",
        "colab": {
          "base_uri": "https://localhost:8080/",
          "height": 102
        },
        "outputId": "dc45a729-f4a8-4f2f-d5e6-e075b37062ca"
      },
      "source": [
        "#Selecting/Querying\n",
        "#column selection\n",
        "df['a']"
      ],
      "execution_count": 8,
      "outputs": [
        {
          "output_type": "execute_result",
          "data": {
            "text/plain": [
              "0    a1\n",
              "1    a2\n",
              "2    a3\n",
              "3    a3\n",
              "Name: a, dtype: object"
            ]
          },
          "metadata": {
            "tags": []
          },
          "execution_count": 8
        }
      ]
    },
    {
      "cell_type": "code",
      "metadata": {
        "id": "foseyrvZAU1d",
        "colab_type": "code",
        "colab": {
          "base_uri": "https://localhost:8080/",
          "height": 34
        },
        "outputId": "75de8a52-cffc-462a-a3c3-8ebbedd89c52"
      },
      "source": [
        "#print the column list of data frame columns\n",
        "df.columns"
      ],
      "execution_count": 9,
      "outputs": [
        {
          "output_type": "execute_result",
          "data": {
            "text/plain": [
              "Index(['a', 'b'], dtype='object')"
            ]
          },
          "metadata": {
            "tags": []
          },
          "execution_count": 9
        }
      ]
    },
    {
      "cell_type": "code",
      "metadata": {
        "id": "nocibtOHAfDJ",
        "colab_type": "code",
        "colab": {
          "base_uri": "https://localhost:8080/",
          "height": 170
        },
        "outputId": "a05aa9ea-a679-4091-ec0d-534f18d11a78"
      },
      "source": [
        "#print data type of each column\n",
        "df.info()"
      ],
      "execution_count": 10,
      "outputs": [
        {
          "output_type": "stream",
          "text": [
            "<class 'pandas.core.frame.DataFrame'>\n",
            "RangeIndex: 4 entries, 0 to 3\n",
            "Data columns (total 2 columns):\n",
            " #   Column  Non-Null Count  Dtype \n",
            "---  ------  --------------  ----- \n",
            " 0   a       4 non-null      object\n",
            " 1   b       4 non-null      object\n",
            "dtypes: object(2)\n",
            "memory usage: 192.0+ bytes\n"
          ],
          "name": "stdout"
        }
      ]
    },
    {
      "cell_type": "code",
      "metadata": {
        "id": "vtUjzHNx63tn",
        "colab_type": "code",
        "colab": {
          "base_uri": "https://localhost:8080/",
          "height": 173
        },
        "outputId": "c30e773f-2fdf-481c-bea7-94e495d9ab25"
      },
      "source": [
        "#single column selection\n",
        "df[['a']]"
      ],
      "execution_count": 11,
      "outputs": [
        {
          "output_type": "execute_result",
          "data": {
            "text/html": [
              "<div>\n",
              "<style scoped>\n",
              "    .dataframe tbody tr th:only-of-type {\n",
              "        vertical-align: middle;\n",
              "    }\n",
              "\n",
              "    .dataframe tbody tr th {\n",
              "        vertical-align: top;\n",
              "    }\n",
              "\n",
              "    .dataframe thead th {\n",
              "        text-align: right;\n",
              "    }\n",
              "</style>\n",
              "<table border=\"1\" class=\"dataframe\">\n",
              "  <thead>\n",
              "    <tr style=\"text-align: right;\">\n",
              "      <th></th>\n",
              "      <th>a</th>\n",
              "    </tr>\n",
              "  </thead>\n",
              "  <tbody>\n",
              "    <tr>\n",
              "      <th>0</th>\n",
              "      <td>a1</td>\n",
              "    </tr>\n",
              "    <tr>\n",
              "      <th>1</th>\n",
              "      <td>a2</td>\n",
              "    </tr>\n",
              "    <tr>\n",
              "      <th>2</th>\n",
              "      <td>a3</td>\n",
              "    </tr>\n",
              "    <tr>\n",
              "      <th>3</th>\n",
              "      <td>a3</td>\n",
              "    </tr>\n",
              "  </tbody>\n",
              "</table>\n",
              "</div>"
            ],
            "text/plain": [
              "    a\n",
              "0  a1\n",
              "1  a2\n",
              "2  a3\n",
              "3  a3"
            ]
          },
          "metadata": {
            "tags": []
          },
          "execution_count": 11
        }
      ]
    },
    {
      "cell_type": "code",
      "metadata": {
        "id": "9FEJXdEs6m2v",
        "colab_type": "code",
        "colab": {
          "base_uri": "https://localhost:8080/",
          "height": 173
        },
        "outputId": "bd344395-0467-45da-e419-3483165c0bf8"
      },
      "source": [
        "#multiple columns selection\n",
        "df[['a','b']]"
      ],
      "execution_count": 12,
      "outputs": [
        {
          "output_type": "execute_result",
          "data": {
            "text/html": [
              "<div>\n",
              "<style scoped>\n",
              "    .dataframe tbody tr th:only-of-type {\n",
              "        vertical-align: middle;\n",
              "    }\n",
              "\n",
              "    .dataframe tbody tr th {\n",
              "        vertical-align: top;\n",
              "    }\n",
              "\n",
              "    .dataframe thead th {\n",
              "        text-align: right;\n",
              "    }\n",
              "</style>\n",
              "<table border=\"1\" class=\"dataframe\">\n",
              "  <thead>\n",
              "    <tr style=\"text-align: right;\">\n",
              "      <th></th>\n",
              "      <th>a</th>\n",
              "      <th>b</th>\n",
              "    </tr>\n",
              "  </thead>\n",
              "  <tbody>\n",
              "    <tr>\n",
              "      <th>0</th>\n",
              "      <td>a1</td>\n",
              "      <td>b1</td>\n",
              "    </tr>\n",
              "    <tr>\n",
              "      <th>1</th>\n",
              "      <td>a2</td>\n",
              "      <td>b2</td>\n",
              "    </tr>\n",
              "    <tr>\n",
              "      <th>2</th>\n",
              "      <td>a3</td>\n",
              "      <td>b3</td>\n",
              "    </tr>\n",
              "    <tr>\n",
              "      <th>3</th>\n",
              "      <td>a3</td>\n",
              "      <td>b4</td>\n",
              "    </tr>\n",
              "  </tbody>\n",
              "</table>\n",
              "</div>"
            ],
            "text/plain": [
              "    a   b\n",
              "0  a1  b1\n",
              "1  a2  b2\n",
              "2  a3  b3\n",
              "3  a3  b4"
            ]
          },
          "metadata": {
            "tags": []
          },
          "execution_count": 12
        }
      ]
    },
    {
      "cell_type": "code",
      "metadata": {
        "id": "BjLLi5qy7AVY",
        "colab_type": "code",
        "colab": {
          "base_uri": "https://localhost:8080/",
          "height": 80
        },
        "outputId": "1798b1af-84ee-4c0f-b664-def9adc485d1"
      },
      "source": [
        "#select a row with index \n",
        "df[df.index==0]"
      ],
      "execution_count": 13,
      "outputs": [
        {
          "output_type": "execute_result",
          "data": {
            "text/html": [
              "<div>\n",
              "<style scoped>\n",
              "    .dataframe tbody tr th:only-of-type {\n",
              "        vertical-align: middle;\n",
              "    }\n",
              "\n",
              "    .dataframe tbody tr th {\n",
              "        vertical-align: top;\n",
              "    }\n",
              "\n",
              "    .dataframe thead th {\n",
              "        text-align: right;\n",
              "    }\n",
              "</style>\n",
              "<table border=\"1\" class=\"dataframe\">\n",
              "  <thead>\n",
              "    <tr style=\"text-align: right;\">\n",
              "      <th></th>\n",
              "      <th>a</th>\n",
              "      <th>b</th>\n",
              "    </tr>\n",
              "  </thead>\n",
              "  <tbody>\n",
              "    <tr>\n",
              "      <th>0</th>\n",
              "      <td>a1</td>\n",
              "      <td>b1</td>\n",
              "    </tr>\n",
              "  </tbody>\n",
              "</table>\n",
              "</div>"
            ],
            "text/plain": [
              "    a   b\n",
              "0  a1  b1"
            ]
          },
          "metadata": {
            "tags": []
          },
          "execution_count": 13
        }
      ]
    },
    {
      "cell_type": "code",
      "metadata": {
        "id": "W9A9vHUx7Se2",
        "colab_type": "code",
        "colab": {
          "base_uri": "https://localhost:8080/",
          "height": 80
        },
        "outputId": "848755ce-ea6d-4bef-f096-50b6efb48d1b"
      },
      "source": [
        "#select a row with index and column\n",
        "df[df.index==0][['a']]"
      ],
      "execution_count": 14,
      "outputs": [
        {
          "output_type": "execute_result",
          "data": {
            "text/html": [
              "<div>\n",
              "<style scoped>\n",
              "    .dataframe tbody tr th:only-of-type {\n",
              "        vertical-align: middle;\n",
              "    }\n",
              "\n",
              "    .dataframe tbody tr th {\n",
              "        vertical-align: top;\n",
              "    }\n",
              "\n",
              "    .dataframe thead th {\n",
              "        text-align: right;\n",
              "    }\n",
              "</style>\n",
              "<table border=\"1\" class=\"dataframe\">\n",
              "  <thead>\n",
              "    <tr style=\"text-align: right;\">\n",
              "      <th></th>\n",
              "      <th>a</th>\n",
              "    </tr>\n",
              "  </thead>\n",
              "  <tbody>\n",
              "    <tr>\n",
              "      <th>0</th>\n",
              "      <td>a1</td>\n",
              "    </tr>\n",
              "  </tbody>\n",
              "</table>\n",
              "</div>"
            ],
            "text/plain": [
              "    a\n",
              "0  a1"
            ]
          },
          "metadata": {
            "tags": []
          },
          "execution_count": 14
        }
      ]
    },
    {
      "cell_type": "code",
      "metadata": {
        "id": "aihlV6el7nvH",
        "colab_type": "code",
        "colab": {
          "base_uri": "https://localhost:8080/",
          "height": 68
        },
        "outputId": "7ab39d4d-daa9-4fb0-a8df-58cc51ed0bf3"
      },
      "source": [
        "#You can also select by absolute coordinates/position in the frame. Indices are zero based:\n",
        "#select first row\n",
        "df.iloc[1]"
      ],
      "execution_count": 15,
      "outputs": [
        {
          "output_type": "execute_result",
          "data": {
            "text/plain": [
              "a    a2\n",
              "b    b2\n",
              "Name: 1, dtype: object"
            ]
          },
          "metadata": {
            "tags": []
          },
          "execution_count": 15
        }
      ]
    },
    {
      "cell_type": "code",
      "metadata": {
        "id": "OVjcbxhz8BYm",
        "colab_type": "code",
        "colab": {
          "base_uri": "https://localhost:8080/",
          "height": 111
        },
        "outputId": "38bac399-8fa1-476c-b9b9-49e0b8e1230d"
      },
      "source": [
        "# Selects rows 1-to-2\n",
        "df.iloc[0:2]"
      ],
      "execution_count": 16,
      "outputs": [
        {
          "output_type": "execute_result",
          "data": {
            "text/html": [
              "<div>\n",
              "<style scoped>\n",
              "    .dataframe tbody tr th:only-of-type {\n",
              "        vertical-align: middle;\n",
              "    }\n",
              "\n",
              "    .dataframe tbody tr th {\n",
              "        vertical-align: top;\n",
              "    }\n",
              "\n",
              "    .dataframe thead th {\n",
              "        text-align: right;\n",
              "    }\n",
              "</style>\n",
              "<table border=\"1\" class=\"dataframe\">\n",
              "  <thead>\n",
              "    <tr style=\"text-align: right;\">\n",
              "      <th></th>\n",
              "      <th>a</th>\n",
              "      <th>b</th>\n",
              "    </tr>\n",
              "  </thead>\n",
              "  <tbody>\n",
              "    <tr>\n",
              "      <th>0</th>\n",
              "      <td>a1</td>\n",
              "      <td>b1</td>\n",
              "    </tr>\n",
              "    <tr>\n",
              "      <th>1</th>\n",
              "      <td>a2</td>\n",
              "      <td>b2</td>\n",
              "    </tr>\n",
              "  </tbody>\n",
              "</table>\n",
              "</div>"
            ],
            "text/plain": [
              "    a   b\n",
              "0  a1  b1\n",
              "1  a2  b2"
            ]
          },
          "metadata": {
            "tags": []
          },
          "execution_count": 16
        }
      ]
    },
    {
      "cell_type": "code",
      "metadata": {
        "id": "eegJWNTN8OQc",
        "colab_type": "code",
        "colab": {
          "base_uri": "https://localhost:8080/",
          "height": 34
        },
        "outputId": "0a97902e-393b-4140-8ef0-bfcc60cf50f4"
      },
      "source": [
        "#select 0th row and 0th column\n",
        "df.iloc[0,0]"
      ],
      "execution_count": 17,
      "outputs": [
        {
          "output_type": "execute_result",
          "data": {
            "text/plain": [
              "'a1'"
            ]
          },
          "metadata": {
            "tags": []
          },
          "execution_count": 17
        }
      ]
    },
    {
      "cell_type": "code",
      "metadata": {
        "id": "ymO-IkVn8mdx",
        "colab_type": "code",
        "colab": {
          "base_uri": "https://localhost:8080/",
          "height": 111
        },
        "outputId": "146c6ee0-86a0-4dc2-c195-80bd054a89ab"
      },
      "source": [
        "# select some continuous rows and columns\n",
        "# df.iloc[start_row_index:End_row_index,start_column_index:End_column_index]\n",
        "df.iloc[0:2,0:2]"
      ],
      "execution_count": 18,
      "outputs": [
        {
          "output_type": "execute_result",
          "data": {
            "text/html": [
              "<div>\n",
              "<style scoped>\n",
              "    .dataframe tbody tr th:only-of-type {\n",
              "        vertical-align: middle;\n",
              "    }\n",
              "\n",
              "    .dataframe tbody tr th {\n",
              "        vertical-align: top;\n",
              "    }\n",
              "\n",
              "    .dataframe thead th {\n",
              "        text-align: right;\n",
              "    }\n",
              "</style>\n",
              "<table border=\"1\" class=\"dataframe\">\n",
              "  <thead>\n",
              "    <tr style=\"text-align: right;\">\n",
              "      <th></th>\n",
              "      <th>a</th>\n",
              "      <th>b</th>\n",
              "    </tr>\n",
              "  </thead>\n",
              "  <tbody>\n",
              "    <tr>\n",
              "      <th>0</th>\n",
              "      <td>a1</td>\n",
              "      <td>b1</td>\n",
              "    </tr>\n",
              "    <tr>\n",
              "      <th>1</th>\n",
              "      <td>a2</td>\n",
              "      <td>b2</td>\n",
              "    </tr>\n",
              "  </tbody>\n",
              "</table>\n",
              "</div>"
            ],
            "text/plain": [
              "    a   b\n",
              "0  a1  b1\n",
              "1  a2  b2"
            ]
          },
          "metadata": {
            "tags": []
          },
          "execution_count": 18
        }
      ]
    },
    {
      "cell_type": "code",
      "metadata": {
        "id": "SNgHPx569KJ9",
        "colab_type": "code",
        "colab": {
          "base_uri": "https://localhost:8080/",
          "height": 80
        },
        "outputId": "c6ac9a68-9314-4a5f-d1e7-730987571d9c"
      },
      "source": [
        "# select data by applying condition on a single column\n",
        "#df[df.column_name condtional_op operand]\n",
        "df[df.a=='a2']"
      ],
      "execution_count": 19,
      "outputs": [
        {
          "output_type": "execute_result",
          "data": {
            "text/html": [
              "<div>\n",
              "<style scoped>\n",
              "    .dataframe tbody tr th:only-of-type {\n",
              "        vertical-align: middle;\n",
              "    }\n",
              "\n",
              "    .dataframe tbody tr th {\n",
              "        vertical-align: top;\n",
              "    }\n",
              "\n",
              "    .dataframe thead th {\n",
              "        text-align: right;\n",
              "    }\n",
              "</style>\n",
              "<table border=\"1\" class=\"dataframe\">\n",
              "  <thead>\n",
              "    <tr style=\"text-align: right;\">\n",
              "      <th></th>\n",
              "      <th>a</th>\n",
              "      <th>b</th>\n",
              "    </tr>\n",
              "  </thead>\n",
              "  <tbody>\n",
              "    <tr>\n",
              "      <th>1</th>\n",
              "      <td>a2</td>\n",
              "      <td>b2</td>\n",
              "    </tr>\n",
              "  </tbody>\n",
              "</table>\n",
              "</div>"
            ],
            "text/plain": [
              "    a   b\n",
              "1  a2  b2"
            ]
          },
          "metadata": {
            "tags": []
          },
          "execution_count": 19
        }
      ]
    },
    {
      "cell_type": "code",
      "metadata": {
        "id": "4b_JHLyI9oFf",
        "colab_type": "code",
        "colab": {
          "base_uri": "https://localhost:8080/",
          "height": 111
        },
        "outputId": "fa18ba48-4ffc-4711-9c0b-e63baffd2d7a"
      },
      "source": [
        "# select data by applying condition on multiple columns\n",
        "#df[(df.column_name1 condtional_op operand) eithor and or(df.column_name2 condtional_op operand)]\n",
        "df[(df.a=='a2')|(df.b=='b1')]"
      ],
      "execution_count": 20,
      "outputs": [
        {
          "output_type": "execute_result",
          "data": {
            "text/html": [
              "<div>\n",
              "<style scoped>\n",
              "    .dataframe tbody tr th:only-of-type {\n",
              "        vertical-align: middle;\n",
              "    }\n",
              "\n",
              "    .dataframe tbody tr th {\n",
              "        vertical-align: top;\n",
              "    }\n",
              "\n",
              "    .dataframe thead th {\n",
              "        text-align: right;\n",
              "    }\n",
              "</style>\n",
              "<table border=\"1\" class=\"dataframe\">\n",
              "  <thead>\n",
              "    <tr style=\"text-align: right;\">\n",
              "      <th></th>\n",
              "      <th>a</th>\n",
              "      <th>b</th>\n",
              "    </tr>\n",
              "  </thead>\n",
              "  <tbody>\n",
              "    <tr>\n",
              "      <th>0</th>\n",
              "      <td>a1</td>\n",
              "      <td>b1</td>\n",
              "    </tr>\n",
              "    <tr>\n",
              "      <th>1</th>\n",
              "      <td>a2</td>\n",
              "      <td>b2</td>\n",
              "    </tr>\n",
              "  </tbody>\n",
              "</table>\n",
              "</div>"
            ],
            "text/plain": [
              "    a   b\n",
              "0  a1  b1\n",
              "1  a2  b2"
            ]
          },
          "metadata": {
            "tags": []
          },
          "execution_count": 20
        }
      ]
    },
    {
      "cell_type": "code",
      "metadata": {
        "id": "_8blfxEG-ffk",
        "colab_type": "code",
        "colab": {
          "base_uri": "https://localhost:8080/",
          "height": 49
        },
        "outputId": "e6c34352-fd23-4a49-f913-a10dcd3d0eff"
      },
      "source": [
        "#same as above only operator chages\n",
        "df[(df.a=='a2')&(df.b=='b1')]"
      ],
      "execution_count": 21,
      "outputs": [
        {
          "output_type": "execute_result",
          "data": {
            "text/html": [
              "<div>\n",
              "<style scoped>\n",
              "    .dataframe tbody tr th:only-of-type {\n",
              "        vertical-align: middle;\n",
              "    }\n",
              "\n",
              "    .dataframe tbody tr th {\n",
              "        vertical-align: top;\n",
              "    }\n",
              "\n",
              "    .dataframe thead th {\n",
              "        text-align: right;\n",
              "    }\n",
              "</style>\n",
              "<table border=\"1\" class=\"dataframe\">\n",
              "  <thead>\n",
              "    <tr style=\"text-align: right;\">\n",
              "      <th></th>\n",
              "      <th>a</th>\n",
              "      <th>b</th>\n",
              "    </tr>\n",
              "  </thead>\n",
              "  <tbody>\n",
              "  </tbody>\n",
              "</table>\n",
              "</div>"
            ],
            "text/plain": [
              "Empty DataFrame\n",
              "Columns: [a, b]\n",
              "Index: []"
            ]
          },
          "metadata": {
            "tags": []
          },
          "execution_count": 21
        }
      ]
    },
    {
      "cell_type": "code",
      "metadata": {
        "id": "JHT4gq-l_dOG",
        "colab_type": "code",
        "colab": {
          "base_uri": "https://localhost:8080/",
          "height": 85
        },
        "outputId": "ebb5981c-814b-4dbb-c24e-8ce6ee18b6e9"
      },
      "source": [
        "#Create an empty column in existing data frame\n",
        "#df['New_column_name']=np.nan\n",
        "print('before inserting a column c')\n",
        "print(df.columns)\n",
        "df['c']=np.nan\n",
        "print('after inserting a column c')\n",
        "print(df.columns)"
      ],
      "execution_count": 22,
      "outputs": [
        {
          "output_type": "stream",
          "text": [
            "before inserting a column c\n",
            "Index(['a', 'b'], dtype='object')\n",
            "after inserting a column c\n",
            "Index(['a', 'b', 'c'], dtype='object')\n"
          ],
          "name": "stdout"
        }
      ]
    },
    {
      "cell_type": "code",
      "metadata": {
        "id": "V8Is1DERBDmo",
        "colab_type": "code",
        "colab": {}
      },
      "source": [
        "# modify dataframe\n"
      ],
      "execution_count": 0,
      "outputs": []
    },
    {
      "cell_type": "code",
      "metadata": {
        "id": "U7WIUT4XBToo",
        "colab_type": "code",
        "colab": {
          "base_uri": "https://localhost:8080/",
          "height": 221
        },
        "outputId": "0865b226-d794-4c86-ccb6-7a5323e8f4dc"
      },
      "source": [
        "# Modifying the dataframe identified by its row index and column\n",
        "#df.at[row_index,columns]=replace value\n",
        "print('befor change')\n",
        "print(df)\n",
        "df.at[1,'b']='r1'\n",
        "print('after change')\n",
        "print(df)"
      ],
      "execution_count": 23,
      "outputs": [
        {
          "output_type": "stream",
          "text": [
            "befor change\n",
            "    a   b   c\n",
            "0  a1  b1 NaN\n",
            "1  a2  b2 NaN\n",
            "2  a3  b3 NaN\n",
            "3  a3  b4 NaN\n",
            "after change\n",
            "    a   b   c\n",
            "0  a1  b1 NaN\n",
            "1  a2  r1 NaN\n",
            "2  a3  b3 NaN\n",
            "3  a3  b4 NaN\n"
          ],
          "name": "stdout"
        }
      ]
    },
    {
      "cell_type": "code",
      "metadata": {
        "id": "v9L9oZ3fB44O",
        "colab_type": "code",
        "colab": {
          "base_uri": "https://localhost:8080/",
          "height": 221
        },
        "outputId": "bea3bfe0-950a-414a-a8b6-a980824de1e7"
      },
      "source": [
        "# Modifying the dataframe identified by its row index and column index\n",
        "#df.at[row_index,columns]=replace value\n",
        "print('befor change')\n",
        "print(df)\n",
        "df.iat[1,2]=10\n",
        "print('after change')\n",
        "print(df)"
      ],
      "execution_count": 24,
      "outputs": [
        {
          "output_type": "stream",
          "text": [
            "befor change\n",
            "    a   b   c\n",
            "0  a1  b1 NaN\n",
            "1  a2  r1 NaN\n",
            "2  a3  b3 NaN\n",
            "3  a3  b4 NaN\n",
            "after change\n",
            "    a   b     c\n",
            "0  a1  b1   NaN\n",
            "1  a2  r1  10.0\n",
            "2  a3  b3   NaN\n",
            "3  a3  b4   NaN\n"
          ],
          "name": "stdout"
        }
      ]
    },
    {
      "cell_type": "code",
      "metadata": {
        "id": "WhhWARw0DWEe",
        "colab_type": "code",
        "colab": {}
      },
      "source": [
        "#insert a new column in existing data frame and column datatype is integer\n",
        "df['d']=2"
      ],
      "execution_count": 0,
      "outputs": []
    },
    {
      "cell_type": "code",
      "metadata": {
        "id": "9OHRUJGmCfyz",
        "colab_type": "code",
        "colab": {
          "base_uri": "https://localhost:8080/",
          "height": 459
        },
        "outputId": "43c58520-7117-486d-b2a1-42b94d92941e"
      },
      "source": [
        "#convert the data type of particular column\n",
        "#df.at[row_index,columns]=replace value\n",
        "print('before conversion')\n",
        "print(df.info())\n",
        "df['d']=df['c'].astype('float')\n",
        "print('after conversion')\n",
        "print(df.info())"
      ],
      "execution_count": 26,
      "outputs": [
        {
          "output_type": "stream",
          "text": [
            "before conversion\n",
            "<class 'pandas.core.frame.DataFrame'>\n",
            "RangeIndex: 4 entries, 0 to 3\n",
            "Data columns (total 4 columns):\n",
            " #   Column  Non-Null Count  Dtype  \n",
            "---  ------  --------------  -----  \n",
            " 0   a       4 non-null      object \n",
            " 1   b       4 non-null      object \n",
            " 2   c       1 non-null      float64\n",
            " 3   d       4 non-null      int64  \n",
            "dtypes: float64(1), int64(1), object(2)\n",
            "memory usage: 256.0+ bytes\n",
            "None\n",
            "after conversion\n",
            "<class 'pandas.core.frame.DataFrame'>\n",
            "RangeIndex: 4 entries, 0 to 3\n",
            "Data columns (total 4 columns):\n",
            " #   Column  Non-Null Count  Dtype  \n",
            "---  ------  --------------  -----  \n",
            " 0   a       4 non-null      object \n",
            " 1   b       4 non-null      object \n",
            " 2   c       1 non-null      float64\n",
            " 3   d       1 non-null      float64\n",
            "dtypes: float64(2), object(2)\n",
            "memory usage: 256.0+ bytes\n",
            "None\n"
          ],
          "name": "stdout"
        }
      ]
    },
    {
      "cell_type": "code",
      "metadata": {
        "id": "E6NoEtyVEdET",
        "colab_type": "code",
        "colab": {}
      },
      "source": [
        "#insert two columns in existing data frame\n",
        "df['e']=[4,5,3,26]\n",
        "df['f']=[40,25,30,26]"
      ],
      "execution_count": 0,
      "outputs": []
    },
    {
      "cell_type": "code",
      "metadata": {
        "id": "5POy8b6WDJLu",
        "colab_type": "code",
        "colab": {
          "base_uri": "https://localhost:8080/",
          "height": 221
        },
        "outputId": "6497ea83-8c91-45ee-ae81-e6cd0705b267"
      },
      "source": [
        "# sort the data frame by particular column\n",
        "print('before sorting')\n",
        "print(df)\n",
        "df=df.sort_values(by=['e', 'f'], ascending=False)\n",
        "print('after sorting')\n",
        "print(df)"
      ],
      "execution_count": 28,
      "outputs": [
        {
          "output_type": "stream",
          "text": [
            "before sorting\n",
            "    a   b     c     d   e   f\n",
            "0  a1  b1   NaN   NaN   4  40\n",
            "1  a2  r1  10.0  10.0   5  25\n",
            "2  a3  b3   NaN   NaN   3  30\n",
            "3  a3  b4   NaN   NaN  26  26\n",
            "after sorting\n",
            "    a   b     c     d   e   f\n",
            "3  a3  b4   NaN   NaN  26  26\n",
            "1  a2  r1  10.0  10.0   5  25\n",
            "0  a1  b1   NaN   NaN   4  40\n",
            "2  a3  b3   NaN   NaN   3  30\n"
          ],
          "name": "stdout"
        }
      ]
    },
    {
      "cell_type": "code",
      "metadata": {
        "id": "nV5sI-GcEXlT",
        "colab_type": "code",
        "colab": {
          "base_uri": "https://localhost:8080/",
          "height": 221
        },
        "outputId": "2fc64578-fb2c-4ad2-835b-6d5db7ab634f"
      },
      "source": [
        "# Sort rows in descending order by the index\n",
        "print('before sorting')\n",
        "print(df)\n",
        "df=df.sort_index(axis=0, ascending=False)\n",
        "print('after sorting')\n",
        "print(df)\n",
        "#df.sort_index(axis=0, ascending=False)"
      ],
      "execution_count": 29,
      "outputs": [
        {
          "output_type": "stream",
          "text": [
            "before sorting\n",
            "    a   b     c     d   e   f\n",
            "3  a3  b4   NaN   NaN  26  26\n",
            "1  a2  r1  10.0  10.0   5  25\n",
            "0  a1  b1   NaN   NaN   4  40\n",
            "2  a3  b3   NaN   NaN   3  30\n",
            "after sorting\n",
            "    a   b     c     d   e   f\n",
            "3  a3  b4   NaN   NaN  26  26\n",
            "2  a3  b3   NaN   NaN   3  30\n",
            "1  a2  r1  10.0  10.0   5  25\n",
            "0  a1  b1   NaN   NaN   4  40\n"
          ],
          "name": "stdout"
        }
      ]
    },
    {
      "cell_type": "code",
      "metadata": {
        "id": "OMFSsg3cFCW4",
        "colab_type": "code",
        "colab": {
          "base_uri": "https://localhost:8080/",
          "height": 221
        },
        "outputId": "5c77ecf9-d063-4a19-8c1c-dc56fd6d0a97"
      },
      "source": [
        "# add constant value to a particular column\n",
        "print('before adding')\n",
        "print(df)\n",
        "df['f']=df['f']+10\n",
        "print('after adding')\n",
        "print(df)\n",
        "\n"
      ],
      "execution_count": 30,
      "outputs": [
        {
          "output_type": "stream",
          "text": [
            "before adding\n",
            "    a   b     c     d   e   f\n",
            "3  a3  b4   NaN   NaN  26  26\n",
            "2  a3  b3   NaN   NaN   3  30\n",
            "1  a2  r1  10.0  10.0   5  25\n",
            "0  a1  b1   NaN   NaN   4  40\n",
            "after adding\n",
            "    a   b     c     d   e   f\n",
            "3  a3  b4   NaN   NaN  26  36\n",
            "2  a3  b3   NaN   NaN   3  40\n",
            "1  a2  r1  10.0  10.0   5  35\n",
            "0  a1  b1   NaN   NaN   4  50\n"
          ],
          "name": "stdout"
        }
      ]
    },
    {
      "cell_type": "code",
      "metadata": {
        "id": "epQFOavGFmED",
        "colab_type": "code",
        "colab": {
          "base_uri": "https://localhost:8080/",
          "height": 221
        },
        "outputId": "89e19bcb-ed76-45df-845f-6434bfb782e0"
      },
      "source": [
        "# add constant value to a particular columns and add \n",
        "#it to a new columns by using a function\n",
        "\n",
        "def add_constant(x):\n",
        "  return x+20\n",
        "print('before adding')\n",
        "print(df)\n",
        "df['f_new']=add_constant(df['f'])\n",
        "print('after adding')\n",
        "print(df)\n"
      ],
      "execution_count": 31,
      "outputs": [
        {
          "output_type": "stream",
          "text": [
            "before adding\n",
            "    a   b     c     d   e   f\n",
            "3  a3  b4   NaN   NaN  26  36\n",
            "2  a3  b3   NaN   NaN   3  40\n",
            "1  a2  r1  10.0  10.0   5  35\n",
            "0  a1  b1   NaN   NaN   4  50\n",
            "after adding\n",
            "    a   b     c     d   e   f  f_new\n",
            "3  a3  b4   NaN   NaN  26  36     56\n",
            "2  a3  b3   NaN   NaN   3  40     60\n",
            "1  a2  r1  10.0  10.0   5  35     55\n",
            "0  a1  b1   NaN   NaN   4  50     70\n"
          ],
          "name": "stdout"
        }
      ]
    },
    {
      "cell_type": "code",
      "metadata": {
        "id": "RfSCmg12MJHi",
        "colab_type": "code",
        "colab": {
          "base_uri": "https://localhost:8080/",
          "height": 173
        },
        "outputId": "0670f8f3-b7a7-4f60-d911-1b7ba458deaa"
      },
      "source": [
        "#Changing the shape of dataframe using pivot\n",
        "df.pivot(index='a',columns='b',values='c')"
      ],
      "execution_count": 32,
      "outputs": [
        {
          "output_type": "execute_result",
          "data": {
            "text/html": [
              "<div>\n",
              "<style scoped>\n",
              "    .dataframe tbody tr th:only-of-type {\n",
              "        vertical-align: middle;\n",
              "    }\n",
              "\n",
              "    .dataframe tbody tr th {\n",
              "        vertical-align: top;\n",
              "    }\n",
              "\n",
              "    .dataframe thead th {\n",
              "        text-align: right;\n",
              "    }\n",
              "</style>\n",
              "<table border=\"1\" class=\"dataframe\">\n",
              "  <thead>\n",
              "    <tr style=\"text-align: right;\">\n",
              "      <th>b</th>\n",
              "      <th>b1</th>\n",
              "      <th>b3</th>\n",
              "      <th>b4</th>\n",
              "      <th>r1</th>\n",
              "    </tr>\n",
              "    <tr>\n",
              "      <th>a</th>\n",
              "      <th></th>\n",
              "      <th></th>\n",
              "      <th></th>\n",
              "      <th></th>\n",
              "    </tr>\n",
              "  </thead>\n",
              "  <tbody>\n",
              "    <tr>\n",
              "      <th>a1</th>\n",
              "      <td>NaN</td>\n",
              "      <td>NaN</td>\n",
              "      <td>NaN</td>\n",
              "      <td>NaN</td>\n",
              "    </tr>\n",
              "    <tr>\n",
              "      <th>a2</th>\n",
              "      <td>NaN</td>\n",
              "      <td>NaN</td>\n",
              "      <td>NaN</td>\n",
              "      <td>10.0</td>\n",
              "    </tr>\n",
              "    <tr>\n",
              "      <th>a3</th>\n",
              "      <td>NaN</td>\n",
              "      <td>NaN</td>\n",
              "      <td>NaN</td>\n",
              "      <td>NaN</td>\n",
              "    </tr>\n",
              "  </tbody>\n",
              "</table>\n",
              "</div>"
            ],
            "text/plain": [
              "b   b1  b3  b4    r1\n",
              "a                   \n",
              "a1 NaN NaN NaN   NaN\n",
              "a2 NaN NaN NaN  10.0\n",
              "a3 NaN NaN NaN   NaN"
            ]
          },
          "metadata": {
            "tags": []
          },
          "execution_count": 32
        }
      ]
    },
    {
      "cell_type": "code",
      "metadata": {
        "id": "Z0ydT3snNOcR",
        "colab_type": "code",
        "colab": {}
      },
      "source": [
        "#Reading data in pandas datafrme\n",
        "df2=pd.read_csv('GOOG.csv')"
      ],
      "execution_count": 0,
      "outputs": []
    },
    {
      "cell_type": "code",
      "metadata": {
        "id": "uow5LyFASx0O",
        "colab_type": "code",
        "colab": {
          "base_uri": "https://localhost:8080/",
          "height": 204
        },
        "outputId": "01706c14-7344-48eb-cebd-9a1efb94350d"
      },
      "source": [
        "# showing the top five row of data\n",
        "df2.head(5)"
      ],
      "execution_count": 34,
      "outputs": [
        {
          "output_type": "execute_result",
          "data": {
            "text/html": [
              "<div>\n",
              "<style scoped>\n",
              "    .dataframe tbody tr th:only-of-type {\n",
              "        vertical-align: middle;\n",
              "    }\n",
              "\n",
              "    .dataframe tbody tr th {\n",
              "        vertical-align: top;\n",
              "    }\n",
              "\n",
              "    .dataframe thead th {\n",
              "        text-align: right;\n",
              "    }\n",
              "</style>\n",
              "<table border=\"1\" class=\"dataframe\">\n",
              "  <thead>\n",
              "    <tr style=\"text-align: right;\">\n",
              "      <th></th>\n",
              "      <th>Date</th>\n",
              "      <th>Open</th>\n",
              "      <th>High</th>\n",
              "      <th>Low</th>\n",
              "      <th>Close</th>\n",
              "      <th>Adj Close</th>\n",
              "      <th>Volume</th>\n",
              "    </tr>\n",
              "  </thead>\n",
              "  <tbody>\n",
              "    <tr>\n",
              "      <th>0</th>\n",
              "      <td>2004-08-19</td>\n",
              "      <td>49.813286</td>\n",
              "      <td>51.835709</td>\n",
              "      <td>47.800831</td>\n",
              "      <td>49.982655</td>\n",
              "      <td>49.982655</td>\n",
              "      <td>44871300</td>\n",
              "    </tr>\n",
              "    <tr>\n",
              "      <th>1</th>\n",
              "      <td>2004-08-20</td>\n",
              "      <td>50.316402</td>\n",
              "      <td>54.336334</td>\n",
              "      <td>50.062355</td>\n",
              "      <td>53.952770</td>\n",
              "      <td>53.952770</td>\n",
              "      <td>22942800</td>\n",
              "    </tr>\n",
              "    <tr>\n",
              "      <th>2</th>\n",
              "      <td>2004-08-23</td>\n",
              "      <td>55.168217</td>\n",
              "      <td>56.528118</td>\n",
              "      <td>54.321388</td>\n",
              "      <td>54.495735</td>\n",
              "      <td>54.495735</td>\n",
              "      <td>18342800</td>\n",
              "    </tr>\n",
              "    <tr>\n",
              "      <th>3</th>\n",
              "      <td>2004-08-24</td>\n",
              "      <td>55.412300</td>\n",
              "      <td>55.591629</td>\n",
              "      <td>51.591621</td>\n",
              "      <td>52.239193</td>\n",
              "      <td>52.239193</td>\n",
              "      <td>15319700</td>\n",
              "    </tr>\n",
              "    <tr>\n",
              "      <th>4</th>\n",
              "      <td>2004-08-25</td>\n",
              "      <td>52.284027</td>\n",
              "      <td>53.798351</td>\n",
              "      <td>51.746044</td>\n",
              "      <td>52.802086</td>\n",
              "      <td>52.802086</td>\n",
              "      <td>9232100</td>\n",
              "    </tr>\n",
              "  </tbody>\n",
              "</table>\n",
              "</div>"
            ],
            "text/plain": [
              "         Date       Open       High        Low      Close  Adj Close    Volume\n",
              "0  2004-08-19  49.813286  51.835709  47.800831  49.982655  49.982655  44871300\n",
              "1  2004-08-20  50.316402  54.336334  50.062355  53.952770  53.952770  22942800\n",
              "2  2004-08-23  55.168217  56.528118  54.321388  54.495735  54.495735  18342800\n",
              "3  2004-08-24  55.412300  55.591629  51.591621  52.239193  52.239193  15319700\n",
              "4  2004-08-25  52.284027  53.798351  51.746044  52.802086  52.802086   9232100"
            ]
          },
          "metadata": {
            "tags": []
          },
          "execution_count": 34
        }
      ]
    },
    {
      "cell_type": "code",
      "metadata": {
        "id": "eCYoEt1eS5ab",
        "colab_type": "code",
        "colab": {
          "base_uri": "https://localhost:8080/",
          "height": 421
        },
        "outputId": "46157f77-0db9-4f91-8d3d-270f0c86e215"
      },
      "source": [
        "# describe your data\n",
        "df2.describe([.9,.91,.92,.93,.94,.95])"
      ],
      "execution_count": 35,
      "outputs": [
        {
          "output_type": "execute_result",
          "data": {
            "text/html": [
              "<div>\n",
              "<style scoped>\n",
              "    .dataframe tbody tr th:only-of-type {\n",
              "        vertical-align: middle;\n",
              "    }\n",
              "\n",
              "    .dataframe tbody tr th {\n",
              "        vertical-align: top;\n",
              "    }\n",
              "\n",
              "    .dataframe thead th {\n",
              "        text-align: right;\n",
              "    }\n",
              "</style>\n",
              "<table border=\"1\" class=\"dataframe\">\n",
              "  <thead>\n",
              "    <tr style=\"text-align: right;\">\n",
              "      <th></th>\n",
              "      <th>Open</th>\n",
              "      <th>High</th>\n",
              "      <th>Low</th>\n",
              "      <th>Close</th>\n",
              "      <th>Adj Close</th>\n",
              "      <th>Volume</th>\n",
              "    </tr>\n",
              "  </thead>\n",
              "  <tbody>\n",
              "    <tr>\n",
              "      <th>count</th>\n",
              "      <td>3939.000000</td>\n",
              "      <td>3939.000000</td>\n",
              "      <td>3939.000000</td>\n",
              "      <td>3939.000000</td>\n",
              "      <td>3939.000000</td>\n",
              "      <td>3.939000e+03</td>\n",
              "    </tr>\n",
              "    <tr>\n",
              "      <th>mean</th>\n",
              "      <td>504.683970</td>\n",
              "      <td>509.337943</td>\n",
              "      <td>499.823819</td>\n",
              "      <td>504.722125</td>\n",
              "      <td>504.722125</td>\n",
              "      <td>7.004023e+06</td>\n",
              "    </tr>\n",
              "    <tr>\n",
              "      <th>std</th>\n",
              "      <td>354.087405</td>\n",
              "      <td>357.165023</td>\n",
              "      <td>351.210293</td>\n",
              "      <td>354.412927</td>\n",
              "      <td>354.412927</td>\n",
              "      <td>8.033192e+06</td>\n",
              "    </tr>\n",
              "    <tr>\n",
              "      <th>min</th>\n",
              "      <td>49.409801</td>\n",
              "      <td>50.680038</td>\n",
              "      <td>47.800831</td>\n",
              "      <td>49.818268</td>\n",
              "      <td>49.818268</td>\n",
              "      <td>7.900000e+03</td>\n",
              "    </tr>\n",
              "    <tr>\n",
              "      <th>50%</th>\n",
              "      <td>328.344299</td>\n",
              "      <td>332.827484</td>\n",
              "      <td>324.035431</td>\n",
              "      <td>328.294464</td>\n",
              "      <td>328.294464</td>\n",
              "      <td>4.302900e+06</td>\n",
              "    </tr>\n",
              "    <tr>\n",
              "      <th>90%</th>\n",
              "      <td>1106.535987</td>\n",
              "      <td>1120.463989</td>\n",
              "      <td>1096.030005</td>\n",
              "      <td>1106.294019</td>\n",
              "      <td>1106.294019</td>\n",
              "      <td>1.606508e+07</td>\n",
              "    </tr>\n",
              "    <tr>\n",
              "      <th>91%</th>\n",
              "      <td>1122.735998</td>\n",
              "      <td>1132.846423</td>\n",
              "      <td>1110.858816</td>\n",
              "      <td>1121.332209</td>\n",
              "      <td>1121.332209</td>\n",
              "      <td>1.693041e+07</td>\n",
              "    </tr>\n",
              "    <tr>\n",
              "      <th>92%</th>\n",
              "      <td>1141.235190</td>\n",
              "      <td>1151.127212</td>\n",
              "      <td>1130.733183</td>\n",
              "      <td>1140.981191</td>\n",
              "      <td>1140.981191</td>\n",
              "      <td>1.774946e+07</td>\n",
              "    </tr>\n",
              "    <tr>\n",
              "      <th>93%</th>\n",
              "      <td>1159.381402</td>\n",
              "      <td>1174.230781</td>\n",
              "      <td>1149.601545</td>\n",
              "      <td>1162.813421</td>\n",
              "      <td>1162.813421</td>\n",
              "      <td>1.888893e+07</td>\n",
              "    </tr>\n",
              "    <tr>\n",
              "      <th>94%</th>\n",
              "      <td>1177.245976</td>\n",
              "      <td>1187.371655</td>\n",
              "      <td>1163.430401</td>\n",
              "      <td>1175.817578</td>\n",
              "      <td>1175.817578</td>\n",
              "      <td>2.032450e+07</td>\n",
              "    </tr>\n",
              "    <tr>\n",
              "      <th>95%</th>\n",
              "      <td>1195.256995</td>\n",
              "      <td>1203.942004</td>\n",
              "      <td>1185.725964</td>\n",
              "      <td>1195.367054</td>\n",
              "      <td>1195.367054</td>\n",
              "      <td>2.163055e+07</td>\n",
              "    </tr>\n",
              "    <tr>\n",
              "      <th>max</th>\n",
              "      <td>1525.069946</td>\n",
              "      <td>1532.105957</td>\n",
              "      <td>1521.400024</td>\n",
              "      <td>1526.689941</td>\n",
              "      <td>1526.689941</td>\n",
              "      <td>8.254150e+07</td>\n",
              "    </tr>\n",
              "  </tbody>\n",
              "</table>\n",
              "</div>"
            ],
            "text/plain": [
              "              Open         High  ...    Adj Close        Volume\n",
              "count  3939.000000  3939.000000  ...  3939.000000  3.939000e+03\n",
              "mean    504.683970   509.337943  ...   504.722125  7.004023e+06\n",
              "std     354.087405   357.165023  ...   354.412927  8.033192e+06\n",
              "min      49.409801    50.680038  ...    49.818268  7.900000e+03\n",
              "50%     328.344299   332.827484  ...   328.294464  4.302900e+06\n",
              "90%    1106.535987  1120.463989  ...  1106.294019  1.606508e+07\n",
              "91%    1122.735998  1132.846423  ...  1121.332209  1.693041e+07\n",
              "92%    1141.235190  1151.127212  ...  1140.981191  1.774946e+07\n",
              "93%    1159.381402  1174.230781  ...  1162.813421  1.888893e+07\n",
              "94%    1177.245976  1187.371655  ...  1175.817578  2.032450e+07\n",
              "95%    1195.256995  1203.942004  ...  1195.367054  2.163055e+07\n",
              "max    1525.069946  1532.105957  ...  1526.689941  8.254150e+07\n",
              "\n",
              "[12 rows x 6 columns]"
            ]
          },
          "metadata": {
            "tags": []
          },
          "execution_count": 35
        }
      ]
    },
    {
      "cell_type": "code",
      "metadata": {
        "id": "UGX1M-AlTOV9",
        "colab_type": "code",
        "colab": {
          "base_uri": "https://localhost:8080/",
          "height": 204
        },
        "outputId": "dc9101a0-bcab-45bc-dea6-39a7b2ff1c91"
      },
      "source": [
        "#Dates and Time\n",
        "df2.head()"
      ],
      "execution_count": 36,
      "outputs": [
        {
          "output_type": "execute_result",
          "data": {
            "text/html": [
              "<div>\n",
              "<style scoped>\n",
              "    .dataframe tbody tr th:only-of-type {\n",
              "        vertical-align: middle;\n",
              "    }\n",
              "\n",
              "    .dataframe tbody tr th {\n",
              "        vertical-align: top;\n",
              "    }\n",
              "\n",
              "    .dataframe thead th {\n",
              "        text-align: right;\n",
              "    }\n",
              "</style>\n",
              "<table border=\"1\" class=\"dataframe\">\n",
              "  <thead>\n",
              "    <tr style=\"text-align: right;\">\n",
              "      <th></th>\n",
              "      <th>Date</th>\n",
              "      <th>Open</th>\n",
              "      <th>High</th>\n",
              "      <th>Low</th>\n",
              "      <th>Close</th>\n",
              "      <th>Adj Close</th>\n",
              "      <th>Volume</th>\n",
              "    </tr>\n",
              "  </thead>\n",
              "  <tbody>\n",
              "    <tr>\n",
              "      <th>0</th>\n",
              "      <td>2004-08-19</td>\n",
              "      <td>49.813286</td>\n",
              "      <td>51.835709</td>\n",
              "      <td>47.800831</td>\n",
              "      <td>49.982655</td>\n",
              "      <td>49.982655</td>\n",
              "      <td>44871300</td>\n",
              "    </tr>\n",
              "    <tr>\n",
              "      <th>1</th>\n",
              "      <td>2004-08-20</td>\n",
              "      <td>50.316402</td>\n",
              "      <td>54.336334</td>\n",
              "      <td>50.062355</td>\n",
              "      <td>53.952770</td>\n",
              "      <td>53.952770</td>\n",
              "      <td>22942800</td>\n",
              "    </tr>\n",
              "    <tr>\n",
              "      <th>2</th>\n",
              "      <td>2004-08-23</td>\n",
              "      <td>55.168217</td>\n",
              "      <td>56.528118</td>\n",
              "      <td>54.321388</td>\n",
              "      <td>54.495735</td>\n",
              "      <td>54.495735</td>\n",
              "      <td>18342800</td>\n",
              "    </tr>\n",
              "    <tr>\n",
              "      <th>3</th>\n",
              "      <td>2004-08-24</td>\n",
              "      <td>55.412300</td>\n",
              "      <td>55.591629</td>\n",
              "      <td>51.591621</td>\n",
              "      <td>52.239193</td>\n",
              "      <td>52.239193</td>\n",
              "      <td>15319700</td>\n",
              "    </tr>\n",
              "    <tr>\n",
              "      <th>4</th>\n",
              "      <td>2004-08-25</td>\n",
              "      <td>52.284027</td>\n",
              "      <td>53.798351</td>\n",
              "      <td>51.746044</td>\n",
              "      <td>52.802086</td>\n",
              "      <td>52.802086</td>\n",
              "      <td>9232100</td>\n",
              "    </tr>\n",
              "  </tbody>\n",
              "</table>\n",
              "</div>"
            ],
            "text/plain": [
              "         Date       Open       High        Low      Close  Adj Close    Volume\n",
              "0  2004-08-19  49.813286  51.835709  47.800831  49.982655  49.982655  44871300\n",
              "1  2004-08-20  50.316402  54.336334  50.062355  53.952770  53.952770  22942800\n",
              "2  2004-08-23  55.168217  56.528118  54.321388  54.495735  54.495735  18342800\n",
              "3  2004-08-24  55.412300  55.591629  51.591621  52.239193  52.239193  15319700\n",
              "4  2004-08-25  52.284027  53.798351  51.746044  52.802086  52.802086   9232100"
            ]
          },
          "metadata": {
            "tags": []
          },
          "execution_count": 36
        }
      ]
    },
    {
      "cell_type": "code",
      "metadata": {
        "id": "Kck5caHbTh8m",
        "colab_type": "code",
        "colab": {}
      },
      "source": [
        "df2['Date'] = pd.to_datetime(df2['Date'])"
      ],
      "execution_count": 0,
      "outputs": []
    },
    {
      "cell_type": "code",
      "metadata": {
        "id": "0Td2TNBqT52M",
        "colab_type": "code",
        "colab": {
          "base_uri": "https://localhost:8080/",
          "height": 204
        },
        "outputId": "2a0793d6-e84c-4239-9f43-f0c767096902"
      },
      "source": [
        "df2.head()"
      ],
      "execution_count": 38,
      "outputs": [
        {
          "output_type": "execute_result",
          "data": {
            "text/html": [
              "<div>\n",
              "<style scoped>\n",
              "    .dataframe tbody tr th:only-of-type {\n",
              "        vertical-align: middle;\n",
              "    }\n",
              "\n",
              "    .dataframe tbody tr th {\n",
              "        vertical-align: top;\n",
              "    }\n",
              "\n",
              "    .dataframe thead th {\n",
              "        text-align: right;\n",
              "    }\n",
              "</style>\n",
              "<table border=\"1\" class=\"dataframe\">\n",
              "  <thead>\n",
              "    <tr style=\"text-align: right;\">\n",
              "      <th></th>\n",
              "      <th>Date</th>\n",
              "      <th>Open</th>\n",
              "      <th>High</th>\n",
              "      <th>Low</th>\n",
              "      <th>Close</th>\n",
              "      <th>Adj Close</th>\n",
              "      <th>Volume</th>\n",
              "    </tr>\n",
              "  </thead>\n",
              "  <tbody>\n",
              "    <tr>\n",
              "      <th>0</th>\n",
              "      <td>2004-08-19</td>\n",
              "      <td>49.813286</td>\n",
              "      <td>51.835709</td>\n",
              "      <td>47.800831</td>\n",
              "      <td>49.982655</td>\n",
              "      <td>49.982655</td>\n",
              "      <td>44871300</td>\n",
              "    </tr>\n",
              "    <tr>\n",
              "      <th>1</th>\n",
              "      <td>2004-08-20</td>\n",
              "      <td>50.316402</td>\n",
              "      <td>54.336334</td>\n",
              "      <td>50.062355</td>\n",
              "      <td>53.952770</td>\n",
              "      <td>53.952770</td>\n",
              "      <td>22942800</td>\n",
              "    </tr>\n",
              "    <tr>\n",
              "      <th>2</th>\n",
              "      <td>2004-08-23</td>\n",
              "      <td>55.168217</td>\n",
              "      <td>56.528118</td>\n",
              "      <td>54.321388</td>\n",
              "      <td>54.495735</td>\n",
              "      <td>54.495735</td>\n",
              "      <td>18342800</td>\n",
              "    </tr>\n",
              "    <tr>\n",
              "      <th>3</th>\n",
              "      <td>2004-08-24</td>\n",
              "      <td>55.412300</td>\n",
              "      <td>55.591629</td>\n",
              "      <td>51.591621</td>\n",
              "      <td>52.239193</td>\n",
              "      <td>52.239193</td>\n",
              "      <td>15319700</td>\n",
              "    </tr>\n",
              "    <tr>\n",
              "      <th>4</th>\n",
              "      <td>2004-08-25</td>\n",
              "      <td>52.284027</td>\n",
              "      <td>53.798351</td>\n",
              "      <td>51.746044</td>\n",
              "      <td>52.802086</td>\n",
              "      <td>52.802086</td>\n",
              "      <td>9232100</td>\n",
              "    </tr>\n",
              "  </tbody>\n",
              "</table>\n",
              "</div>"
            ],
            "text/plain": [
              "        Date       Open       High        Low      Close  Adj Close    Volume\n",
              "0 2004-08-19  49.813286  51.835709  47.800831  49.982655  49.982655  44871300\n",
              "1 2004-08-20  50.316402  54.336334  50.062355  53.952770  53.952770  22942800\n",
              "2 2004-08-23  55.168217  56.528118  54.321388  54.495735  54.495735  18342800\n",
              "3 2004-08-24  55.412300  55.591629  51.591621  52.239193  52.239193  15319700\n",
              "4 2004-08-25  52.284027  53.798351  51.746044  52.802086  52.802086   9232100"
            ]
          },
          "metadata": {
            "tags": []
          },
          "execution_count": 38
        }
      ]
    },
    {
      "cell_type": "code",
      "metadata": {
        "id": "Xp6INpR6USm8",
        "colab_type": "code",
        "colab": {
          "base_uri": "https://localhost:8080/",
          "height": 204
        },
        "outputId": "279a0bc1-9944-4b4c-953c-44ecca7b22bb"
      },
      "source": [
        "#Extract year from date\n",
        "df2['year'] = pd.DatetimeIndex(df2['Date']).year\n",
        "df2.head()"
      ],
      "execution_count": 39,
      "outputs": [
        {
          "output_type": "execute_result",
          "data": {
            "text/html": [
              "<div>\n",
              "<style scoped>\n",
              "    .dataframe tbody tr th:only-of-type {\n",
              "        vertical-align: middle;\n",
              "    }\n",
              "\n",
              "    .dataframe tbody tr th {\n",
              "        vertical-align: top;\n",
              "    }\n",
              "\n",
              "    .dataframe thead th {\n",
              "        text-align: right;\n",
              "    }\n",
              "</style>\n",
              "<table border=\"1\" class=\"dataframe\">\n",
              "  <thead>\n",
              "    <tr style=\"text-align: right;\">\n",
              "      <th></th>\n",
              "      <th>Date</th>\n",
              "      <th>Open</th>\n",
              "      <th>High</th>\n",
              "      <th>Low</th>\n",
              "      <th>Close</th>\n",
              "      <th>Adj Close</th>\n",
              "      <th>Volume</th>\n",
              "      <th>year</th>\n",
              "    </tr>\n",
              "  </thead>\n",
              "  <tbody>\n",
              "    <tr>\n",
              "      <th>0</th>\n",
              "      <td>2004-08-19</td>\n",
              "      <td>49.813286</td>\n",
              "      <td>51.835709</td>\n",
              "      <td>47.800831</td>\n",
              "      <td>49.982655</td>\n",
              "      <td>49.982655</td>\n",
              "      <td>44871300</td>\n",
              "      <td>2004</td>\n",
              "    </tr>\n",
              "    <tr>\n",
              "      <th>1</th>\n",
              "      <td>2004-08-20</td>\n",
              "      <td>50.316402</td>\n",
              "      <td>54.336334</td>\n",
              "      <td>50.062355</td>\n",
              "      <td>53.952770</td>\n",
              "      <td>53.952770</td>\n",
              "      <td>22942800</td>\n",
              "      <td>2004</td>\n",
              "    </tr>\n",
              "    <tr>\n",
              "      <th>2</th>\n",
              "      <td>2004-08-23</td>\n",
              "      <td>55.168217</td>\n",
              "      <td>56.528118</td>\n",
              "      <td>54.321388</td>\n",
              "      <td>54.495735</td>\n",
              "      <td>54.495735</td>\n",
              "      <td>18342800</td>\n",
              "      <td>2004</td>\n",
              "    </tr>\n",
              "    <tr>\n",
              "      <th>3</th>\n",
              "      <td>2004-08-24</td>\n",
              "      <td>55.412300</td>\n",
              "      <td>55.591629</td>\n",
              "      <td>51.591621</td>\n",
              "      <td>52.239193</td>\n",
              "      <td>52.239193</td>\n",
              "      <td>15319700</td>\n",
              "      <td>2004</td>\n",
              "    </tr>\n",
              "    <tr>\n",
              "      <th>4</th>\n",
              "      <td>2004-08-25</td>\n",
              "      <td>52.284027</td>\n",
              "      <td>53.798351</td>\n",
              "      <td>51.746044</td>\n",
              "      <td>52.802086</td>\n",
              "      <td>52.802086</td>\n",
              "      <td>9232100</td>\n",
              "      <td>2004</td>\n",
              "    </tr>\n",
              "  </tbody>\n",
              "</table>\n",
              "</div>"
            ],
            "text/plain": [
              "        Date       Open       High  ...  Adj Close    Volume  year\n",
              "0 2004-08-19  49.813286  51.835709  ...  49.982655  44871300  2004\n",
              "1 2004-08-20  50.316402  54.336334  ...  53.952770  22942800  2004\n",
              "2 2004-08-23  55.168217  56.528118  ...  54.495735  18342800  2004\n",
              "3 2004-08-24  55.412300  55.591629  ...  52.239193  15319700  2004\n",
              "4 2004-08-25  52.284027  53.798351  ...  52.802086   9232100  2004\n",
              "\n",
              "[5 rows x 8 columns]"
            ]
          },
          "metadata": {
            "tags": []
          },
          "execution_count": 39
        }
      ]
    },
    {
      "cell_type": "code",
      "metadata": {
        "id": "WzwTBSfFU_Ui",
        "colab_type": "code",
        "colab": {
          "base_uri": "https://localhost:8080/",
          "height": 204
        },
        "outputId": "82510fdb-aa3c-4f5d-e24a-14cea8cea7ef"
      },
      "source": [
        "#Extract month from date\n",
        "df2['month'] = pd.DatetimeIndex(df2['Date']).month\n",
        "df2.head()"
      ],
      "execution_count": 40,
      "outputs": [
        {
          "output_type": "execute_result",
          "data": {
            "text/html": [
              "<div>\n",
              "<style scoped>\n",
              "    .dataframe tbody tr th:only-of-type {\n",
              "        vertical-align: middle;\n",
              "    }\n",
              "\n",
              "    .dataframe tbody tr th {\n",
              "        vertical-align: top;\n",
              "    }\n",
              "\n",
              "    .dataframe thead th {\n",
              "        text-align: right;\n",
              "    }\n",
              "</style>\n",
              "<table border=\"1\" class=\"dataframe\">\n",
              "  <thead>\n",
              "    <tr style=\"text-align: right;\">\n",
              "      <th></th>\n",
              "      <th>Date</th>\n",
              "      <th>Open</th>\n",
              "      <th>High</th>\n",
              "      <th>Low</th>\n",
              "      <th>Close</th>\n",
              "      <th>Adj Close</th>\n",
              "      <th>Volume</th>\n",
              "      <th>year</th>\n",
              "      <th>month</th>\n",
              "    </tr>\n",
              "  </thead>\n",
              "  <tbody>\n",
              "    <tr>\n",
              "      <th>0</th>\n",
              "      <td>2004-08-19</td>\n",
              "      <td>49.813286</td>\n",
              "      <td>51.835709</td>\n",
              "      <td>47.800831</td>\n",
              "      <td>49.982655</td>\n",
              "      <td>49.982655</td>\n",
              "      <td>44871300</td>\n",
              "      <td>2004</td>\n",
              "      <td>8</td>\n",
              "    </tr>\n",
              "    <tr>\n",
              "      <th>1</th>\n",
              "      <td>2004-08-20</td>\n",
              "      <td>50.316402</td>\n",
              "      <td>54.336334</td>\n",
              "      <td>50.062355</td>\n",
              "      <td>53.952770</td>\n",
              "      <td>53.952770</td>\n",
              "      <td>22942800</td>\n",
              "      <td>2004</td>\n",
              "      <td>8</td>\n",
              "    </tr>\n",
              "    <tr>\n",
              "      <th>2</th>\n",
              "      <td>2004-08-23</td>\n",
              "      <td>55.168217</td>\n",
              "      <td>56.528118</td>\n",
              "      <td>54.321388</td>\n",
              "      <td>54.495735</td>\n",
              "      <td>54.495735</td>\n",
              "      <td>18342800</td>\n",
              "      <td>2004</td>\n",
              "      <td>8</td>\n",
              "    </tr>\n",
              "    <tr>\n",
              "      <th>3</th>\n",
              "      <td>2004-08-24</td>\n",
              "      <td>55.412300</td>\n",
              "      <td>55.591629</td>\n",
              "      <td>51.591621</td>\n",
              "      <td>52.239193</td>\n",
              "      <td>52.239193</td>\n",
              "      <td>15319700</td>\n",
              "      <td>2004</td>\n",
              "      <td>8</td>\n",
              "    </tr>\n",
              "    <tr>\n",
              "      <th>4</th>\n",
              "      <td>2004-08-25</td>\n",
              "      <td>52.284027</td>\n",
              "      <td>53.798351</td>\n",
              "      <td>51.746044</td>\n",
              "      <td>52.802086</td>\n",
              "      <td>52.802086</td>\n",
              "      <td>9232100</td>\n",
              "      <td>2004</td>\n",
              "      <td>8</td>\n",
              "    </tr>\n",
              "  </tbody>\n",
              "</table>\n",
              "</div>"
            ],
            "text/plain": [
              "        Date       Open       High        Low  ...  Adj Close    Volume  year  month\n",
              "0 2004-08-19  49.813286  51.835709  47.800831  ...  49.982655  44871300  2004      8\n",
              "1 2004-08-20  50.316402  54.336334  50.062355  ...  53.952770  22942800  2004      8\n",
              "2 2004-08-23  55.168217  56.528118  54.321388  ...  54.495735  18342800  2004      8\n",
              "3 2004-08-24  55.412300  55.591629  51.591621  ...  52.239193  15319700  2004      8\n",
              "4 2004-08-25  52.284027  53.798351  51.746044  ...  52.802086   9232100  2004      8\n",
              "\n",
              "[5 rows x 9 columns]"
            ]
          },
          "metadata": {
            "tags": []
          },
          "execution_count": 40
        }
      ]
    },
    {
      "cell_type": "code",
      "metadata": {
        "id": "Jr7ZBfTlVFs9",
        "colab_type": "code",
        "colab": {
          "base_uri": "https://localhost:8080/",
          "height": 204
        },
        "outputId": "c5c2350d-8de2-440c-a3e1-eef3ffe20065"
      },
      "source": [
        "#Extract week from date\n",
        "df2['week'] = pd.DatetimeIndex(df2['Date']).week\n",
        "df2.head()"
      ],
      "execution_count": 41,
      "outputs": [
        {
          "output_type": "execute_result",
          "data": {
            "text/html": [
              "<div>\n",
              "<style scoped>\n",
              "    .dataframe tbody tr th:only-of-type {\n",
              "        vertical-align: middle;\n",
              "    }\n",
              "\n",
              "    .dataframe tbody tr th {\n",
              "        vertical-align: top;\n",
              "    }\n",
              "\n",
              "    .dataframe thead th {\n",
              "        text-align: right;\n",
              "    }\n",
              "</style>\n",
              "<table border=\"1\" class=\"dataframe\">\n",
              "  <thead>\n",
              "    <tr style=\"text-align: right;\">\n",
              "      <th></th>\n",
              "      <th>Date</th>\n",
              "      <th>Open</th>\n",
              "      <th>High</th>\n",
              "      <th>Low</th>\n",
              "      <th>Close</th>\n",
              "      <th>Adj Close</th>\n",
              "      <th>Volume</th>\n",
              "      <th>year</th>\n",
              "      <th>month</th>\n",
              "      <th>week</th>\n",
              "    </tr>\n",
              "  </thead>\n",
              "  <tbody>\n",
              "    <tr>\n",
              "      <th>0</th>\n",
              "      <td>2004-08-19</td>\n",
              "      <td>49.813286</td>\n",
              "      <td>51.835709</td>\n",
              "      <td>47.800831</td>\n",
              "      <td>49.982655</td>\n",
              "      <td>49.982655</td>\n",
              "      <td>44871300</td>\n",
              "      <td>2004</td>\n",
              "      <td>8</td>\n",
              "      <td>34</td>\n",
              "    </tr>\n",
              "    <tr>\n",
              "      <th>1</th>\n",
              "      <td>2004-08-20</td>\n",
              "      <td>50.316402</td>\n",
              "      <td>54.336334</td>\n",
              "      <td>50.062355</td>\n",
              "      <td>53.952770</td>\n",
              "      <td>53.952770</td>\n",
              "      <td>22942800</td>\n",
              "      <td>2004</td>\n",
              "      <td>8</td>\n",
              "      <td>34</td>\n",
              "    </tr>\n",
              "    <tr>\n",
              "      <th>2</th>\n",
              "      <td>2004-08-23</td>\n",
              "      <td>55.168217</td>\n",
              "      <td>56.528118</td>\n",
              "      <td>54.321388</td>\n",
              "      <td>54.495735</td>\n",
              "      <td>54.495735</td>\n",
              "      <td>18342800</td>\n",
              "      <td>2004</td>\n",
              "      <td>8</td>\n",
              "      <td>35</td>\n",
              "    </tr>\n",
              "    <tr>\n",
              "      <th>3</th>\n",
              "      <td>2004-08-24</td>\n",
              "      <td>55.412300</td>\n",
              "      <td>55.591629</td>\n",
              "      <td>51.591621</td>\n",
              "      <td>52.239193</td>\n",
              "      <td>52.239193</td>\n",
              "      <td>15319700</td>\n",
              "      <td>2004</td>\n",
              "      <td>8</td>\n",
              "      <td>35</td>\n",
              "    </tr>\n",
              "    <tr>\n",
              "      <th>4</th>\n",
              "      <td>2004-08-25</td>\n",
              "      <td>52.284027</td>\n",
              "      <td>53.798351</td>\n",
              "      <td>51.746044</td>\n",
              "      <td>52.802086</td>\n",
              "      <td>52.802086</td>\n",
              "      <td>9232100</td>\n",
              "      <td>2004</td>\n",
              "      <td>8</td>\n",
              "      <td>35</td>\n",
              "    </tr>\n",
              "  </tbody>\n",
              "</table>\n",
              "</div>"
            ],
            "text/plain": [
              "        Date       Open       High        Low  ...    Volume  year  month  week\n",
              "0 2004-08-19  49.813286  51.835709  47.800831  ...  44871300  2004      8    34\n",
              "1 2004-08-20  50.316402  54.336334  50.062355  ...  22942800  2004      8    34\n",
              "2 2004-08-23  55.168217  56.528118  54.321388  ...  18342800  2004      8    35\n",
              "3 2004-08-24  55.412300  55.591629  51.591621  ...  15319700  2004      8    35\n",
              "4 2004-08-25  52.284027  53.798351  51.746044  ...   9232100  2004      8    35\n",
              "\n",
              "[5 rows x 10 columns]"
            ]
          },
          "metadata": {
            "tags": []
          },
          "execution_count": 41
        }
      ]
    },
    {
      "cell_type": "code",
      "metadata": {
        "id": "bwU655NqVKay",
        "colab_type": "code",
        "colab": {
          "base_uri": "https://localhost:8080/",
          "height": 204
        },
        "outputId": "ecea317c-1f7c-45aa-f44e-640ca7d4dc51"
      },
      "source": [
        "#Extract Month year from date\n",
        "df2['month_year'] = pd.to_datetime(df2['Date']).dt.to_period('M')\n",
        "df2.head()"
      ],
      "execution_count": 42,
      "outputs": [
        {
          "output_type": "execute_result",
          "data": {
            "text/html": [
              "<div>\n",
              "<style scoped>\n",
              "    .dataframe tbody tr th:only-of-type {\n",
              "        vertical-align: middle;\n",
              "    }\n",
              "\n",
              "    .dataframe tbody tr th {\n",
              "        vertical-align: top;\n",
              "    }\n",
              "\n",
              "    .dataframe thead th {\n",
              "        text-align: right;\n",
              "    }\n",
              "</style>\n",
              "<table border=\"1\" class=\"dataframe\">\n",
              "  <thead>\n",
              "    <tr style=\"text-align: right;\">\n",
              "      <th></th>\n",
              "      <th>Date</th>\n",
              "      <th>Open</th>\n",
              "      <th>High</th>\n",
              "      <th>Low</th>\n",
              "      <th>Close</th>\n",
              "      <th>Adj Close</th>\n",
              "      <th>Volume</th>\n",
              "      <th>year</th>\n",
              "      <th>month</th>\n",
              "      <th>week</th>\n",
              "      <th>month_year</th>\n",
              "    </tr>\n",
              "  </thead>\n",
              "  <tbody>\n",
              "    <tr>\n",
              "      <th>0</th>\n",
              "      <td>2004-08-19</td>\n",
              "      <td>49.813286</td>\n",
              "      <td>51.835709</td>\n",
              "      <td>47.800831</td>\n",
              "      <td>49.982655</td>\n",
              "      <td>49.982655</td>\n",
              "      <td>44871300</td>\n",
              "      <td>2004</td>\n",
              "      <td>8</td>\n",
              "      <td>34</td>\n",
              "      <td>2004-08</td>\n",
              "    </tr>\n",
              "    <tr>\n",
              "      <th>1</th>\n",
              "      <td>2004-08-20</td>\n",
              "      <td>50.316402</td>\n",
              "      <td>54.336334</td>\n",
              "      <td>50.062355</td>\n",
              "      <td>53.952770</td>\n",
              "      <td>53.952770</td>\n",
              "      <td>22942800</td>\n",
              "      <td>2004</td>\n",
              "      <td>8</td>\n",
              "      <td>34</td>\n",
              "      <td>2004-08</td>\n",
              "    </tr>\n",
              "    <tr>\n",
              "      <th>2</th>\n",
              "      <td>2004-08-23</td>\n",
              "      <td>55.168217</td>\n",
              "      <td>56.528118</td>\n",
              "      <td>54.321388</td>\n",
              "      <td>54.495735</td>\n",
              "      <td>54.495735</td>\n",
              "      <td>18342800</td>\n",
              "      <td>2004</td>\n",
              "      <td>8</td>\n",
              "      <td>35</td>\n",
              "      <td>2004-08</td>\n",
              "    </tr>\n",
              "    <tr>\n",
              "      <th>3</th>\n",
              "      <td>2004-08-24</td>\n",
              "      <td>55.412300</td>\n",
              "      <td>55.591629</td>\n",
              "      <td>51.591621</td>\n",
              "      <td>52.239193</td>\n",
              "      <td>52.239193</td>\n",
              "      <td>15319700</td>\n",
              "      <td>2004</td>\n",
              "      <td>8</td>\n",
              "      <td>35</td>\n",
              "      <td>2004-08</td>\n",
              "    </tr>\n",
              "    <tr>\n",
              "      <th>4</th>\n",
              "      <td>2004-08-25</td>\n",
              "      <td>52.284027</td>\n",
              "      <td>53.798351</td>\n",
              "      <td>51.746044</td>\n",
              "      <td>52.802086</td>\n",
              "      <td>52.802086</td>\n",
              "      <td>9232100</td>\n",
              "      <td>2004</td>\n",
              "      <td>8</td>\n",
              "      <td>35</td>\n",
              "      <td>2004-08</td>\n",
              "    </tr>\n",
              "  </tbody>\n",
              "</table>\n",
              "</div>"
            ],
            "text/plain": [
              "        Date       Open       High        Low  ...  year  month  week  month_year\n",
              "0 2004-08-19  49.813286  51.835709  47.800831  ...  2004      8    34     2004-08\n",
              "1 2004-08-20  50.316402  54.336334  50.062355  ...  2004      8    34     2004-08\n",
              "2 2004-08-23  55.168217  56.528118  54.321388  ...  2004      8    35     2004-08\n",
              "3 2004-08-24  55.412300  55.591629  51.591621  ...  2004      8    35     2004-08\n",
              "4 2004-08-25  52.284027  53.798351  51.746044  ...  2004      8    35     2004-08\n",
              "\n",
              "[5 rows x 11 columns]"
            ]
          },
          "metadata": {
            "tags": []
          },
          "execution_count": 42
        }
      ]
    },
    {
      "cell_type": "code",
      "metadata": {
        "id": "Y7hJjIi5Vcqk",
        "colab_type": "code",
        "colab": {}
      },
      "source": [
        "#Count the null value in each data frame"
      ],
      "execution_count": 0,
      "outputs": []
    },
    {
      "cell_type": "code",
      "metadata": {
        "id": "0ddxm6lsVr1-",
        "colab_type": "code",
        "colab": {
          "base_uri": "https://localhost:8080/",
          "height": 153
        },
        "outputId": "e5df8837-0d3b-4c01-dad8-ca5b1c80fc1e"
      },
      "source": [
        "df.isna().sum()"
      ],
      "execution_count": 44,
      "outputs": [
        {
          "output_type": "execute_result",
          "data": {
            "text/plain": [
              "a        0\n",
              "b        0\n",
              "c        3\n",
              "d        3\n",
              "e        0\n",
              "f        0\n",
              "f_new    0\n",
              "dtype: int64"
            ]
          },
          "metadata": {
            "tags": []
          },
          "execution_count": 44
        }
      ]
    },
    {
      "cell_type": "code",
      "metadata": {
        "id": "y9n2sNBdWiq4",
        "colab_type": "code",
        "colab": {
          "base_uri": "https://localhost:8080/",
          "height": 153
        },
        "outputId": "ae55f016-5bbc-4e64-f903-f249f16a1287"
      },
      "source": [
        "#This is same as above\n",
        "len(df)-df.count()"
      ],
      "execution_count": 45,
      "outputs": [
        {
          "output_type": "execute_result",
          "data": {
            "text/plain": [
              "a        0\n",
              "b        0\n",
              "c        3\n",
              "d        3\n",
              "e        0\n",
              "f        0\n",
              "f_new    0\n",
              "dtype: int64"
            ]
          },
          "metadata": {
            "tags": []
          },
          "execution_count": 45
        }
      ]
    },
    {
      "cell_type": "code",
      "metadata": {
        "id": "uEUArH4CWsv0",
        "colab_type": "code",
        "colab": {
          "base_uri": "https://localhost:8080/",
          "height": 102
        },
        "outputId": "200e3662-dab9-49d5-a5c7-7b0e90c462c4"
      },
      "source": [
        "#drop a complete row if all values of that row are null\n",
        "df=df.dropna(how='all')\n",
        "print(df)"
      ],
      "execution_count": 46,
      "outputs": [
        {
          "output_type": "stream",
          "text": [
            "    a   b     c     d   e   f  f_new\n",
            "3  a3  b4   NaN   NaN  26  36     56\n",
            "2  a3  b3   NaN   NaN   3  40     60\n",
            "1  a2  r1  10.0  10.0   5  35     55\n",
            "0  a1  b1   NaN   NaN   4  50     70\n"
          ],
          "name": "stdout"
        }
      ]
    },
    {
      "cell_type": "code",
      "metadata": {
        "id": "FP-jOSNRXXM-",
        "colab_type": "code",
        "colab": {
          "base_uri": "https://localhost:8080/",
          "height": 51
        },
        "outputId": "32a8ba3a-7579-41a8-b098-daad1a743317"
      },
      "source": [
        "#drop a complete row if any value of that row are null\n",
        "df=df.dropna(how='any')\n",
        "print(df)"
      ],
      "execution_count": 47,
      "outputs": [
        {
          "output_type": "stream",
          "text": [
            "    a   b     c     d  e   f  f_new\n",
            "1  a2  r1  10.0  10.0  5  35     55\n"
          ],
          "name": "stdout"
        }
      ]
    },
    {
      "cell_type": "code",
      "metadata": {
        "id": "LD3qUNwLXhVu",
        "colab_type": "code",
        "colab": {}
      },
      "source": [
        "#concatenate two data frame horizontally and vertically"
      ],
      "execution_count": 0,
      "outputs": []
    },
    {
      "cell_type": "code",
      "metadata": {
        "id": "RF10Ae39YA3I",
        "colab_type": "code",
        "colab": {
          "base_uri": "https://localhost:8080/",
          "height": 187
        },
        "outputId": "4a65cc59-4fcb-4140-8bac-3f9b28de7588"
      },
      "source": [
        "df1 = pd.DataFrame({\n",
        "    'A': ['a','b','c','d'],\n",
        "    'B': range(4)\n",
        "})\n",
        "print (df1)\n",
        "  \n",
        "df2 = pd.DataFrame({\n",
        "    'C': ['c1','c2','c3','c4'],\n",
        "    'D': range(4,8)\n",
        "})\n",
        "print(df2)"
      ],
      "execution_count": 49,
      "outputs": [
        {
          "output_type": "stream",
          "text": [
            "   A  B\n",
            "0  a  0\n",
            "1  b  1\n",
            "2  c  2\n",
            "3  d  3\n",
            "    C  D\n",
            "0  c1  4\n",
            "1  c2  5\n",
            "2  c3  6\n",
            "3  c4  7\n"
          ],
          "name": "stdout"
        }
      ]
    },
    {
      "cell_type": "code",
      "metadata": {
        "id": "9h0Wdv9lYcbg",
        "colab_type": "code",
        "colab": {
          "base_uri": "https://localhost:8080/",
          "height": 102
        },
        "outputId": "a5fbdb77-f9d9-4732-9086-9b57f7e58db9"
      },
      "source": [
        "df3=pd.concat([df1, df2], axis= 1)\n",
        "print(df3)"
      ],
      "execution_count": 50,
      "outputs": [
        {
          "output_type": "stream",
          "text": [
            "   A  B   C  D\n",
            "0  a  0  c1  4\n",
            "1  b  1  c2  5\n",
            "2  c  2  c3  6\n",
            "3  d  3  c4  7\n"
          ],
          "name": "stdout"
        }
      ]
    },
    {
      "cell_type": "code",
      "metadata": {
        "id": "_nGOwFdNYjEO",
        "colab_type": "code",
        "colab": {
          "base_uri": "https://localhost:8080/",
          "height": 170
        },
        "outputId": "0a5db160-a669-4c73-fa4d-38530c377d41"
      },
      "source": [
        "df3=pd.concat([df1, df2], axis= 0)\n",
        "print(df3)"
      ],
      "execution_count": 51,
      "outputs": [
        {
          "output_type": "stream",
          "text": [
            "     A    B    C    D\n",
            "0    a  0.0  NaN  NaN\n",
            "1    b  1.0  NaN  NaN\n",
            "2    c  2.0  NaN  NaN\n",
            "3    d  3.0  NaN  NaN\n",
            "0  NaN  NaN   c1  4.0\n",
            "1  NaN  NaN   c2  5.0\n",
            "2  NaN  NaN   c3  6.0\n",
            "3  NaN  NaN   c4  7.0\n"
          ],
          "name": "stdout"
        }
      ]
    },
    {
      "cell_type": "code",
      "metadata": {
        "id": "5CuXMCp9Yrp7",
        "colab_type": "code",
        "colab": {
          "base_uri": "https://localhost:8080/",
          "height": 221
        },
        "outputId": "32d5473e-620a-46c8-f971-5e486c660166"
      },
      "source": [
        "print('df1:')\n",
        "df1 = pd.DataFrame({\n",
        "    'A': ['a','b','c','d'],\n",
        "    'B': range(4)\n",
        "})\n",
        "print (df1)\n",
        "  \n",
        "print('df2:')\n",
        "df2 = pd.DataFrame({\n",
        "    'A': ['c1','c2','c3','c4'],\n",
        "    'B': range(4,8)\n",
        "})\n",
        "print(df2)"
      ],
      "execution_count": 52,
      "outputs": [
        {
          "output_type": "stream",
          "text": [
            "df1:\n",
            "   A  B\n",
            "0  a  0\n",
            "1  b  1\n",
            "2  c  2\n",
            "3  d  3\n",
            "df2:\n",
            "    A  B\n",
            "0  c1  4\n",
            "1  c2  5\n",
            "2  c3  6\n",
            "3  c4  7\n"
          ],
          "name": "stdout"
        }
      ]
    },
    {
      "cell_type": "code",
      "metadata": {
        "id": "7mVhtUNCYxsS",
        "colab_type": "code",
        "colab": {
          "base_uri": "https://localhost:8080/",
          "height": 170
        },
        "outputId": "beff8e64-68ac-456e-bfcf-07d6c237d453"
      },
      "source": [
        "df3=pd.concat([df1, df2], axis= 0)\n",
        "print(df3)"
      ],
      "execution_count": 53,
      "outputs": [
        {
          "output_type": "stream",
          "text": [
            "    A  B\n",
            "0   a  0\n",
            "1   b  1\n",
            "2   c  2\n",
            "3   d  3\n",
            "0  c1  4\n",
            "1  c2  5\n",
            "2  c3  6\n",
            "3  c4  7\n"
          ],
          "name": "stdout"
        }
      ]
    },
    {
      "cell_type": "code",
      "metadata": {
        "id": "QU-Bn3ECY-uX",
        "colab_type": "code",
        "colab": {
          "base_uri": "https://localhost:8080/",
          "height": 170
        },
        "outputId": "127a155c-1bbf-4fe9-bd8e-63e7f8f0160e"
      },
      "source": [
        "df3=df3.reset_index(drop=True)\n",
        "print(df3)"
      ],
      "execution_count": 54,
      "outputs": [
        {
          "output_type": "stream",
          "text": [
            "    A  B\n",
            "0   a  0\n",
            "1   b  1\n",
            "2   c  2\n",
            "3   d  3\n",
            "4  c1  4\n",
            "5  c2  5\n",
            "6  c3  6\n",
            "7  c4  7\n"
          ],
          "name": "stdout"
        }
      ]
    },
    {
      "cell_type": "code",
      "metadata": {
        "id": "z58mKEh-ef1t",
        "colab_type": "code",
        "colab": {
          "base_uri": "https://localhost:8080/",
          "height": 102
        },
        "outputId": "f3bf4f5d-f469-48a4-9e37-627084a5c23e"
      },
      "source": [
        "df1 = pd.DataFrame({'X': ['x1', 'x2', 'x3', 'x4'],\n",
        "                        'Y': ['y1', 'y2', 'y3', 'y4'],\n",
        "                       'Z': ['z1', 'z2', 'z3', 'z3'],\n",
        "                      'T': ['t1', 't2', 't3', 't4']}\n",
        "                    )\n",
        "print(df1)"
      ],
      "execution_count": 55,
      "outputs": [
        {
          "output_type": "stream",
          "text": [
            "    X   Y   Z   T\n",
            "0  x1  y1  z1  t1\n",
            "1  x2  y2  z2  t2\n",
            "2  x3  y3  z3  t3\n",
            "3  x4  y4  z3  t4\n"
          ],
          "name": "stdout"
        }
      ]
    },
    {
      "cell_type": "code",
      "metadata": {
        "id": "oHW_H6I5ekno",
        "colab_type": "code",
        "colab": {
          "base_uri": "https://localhost:8080/",
          "height": 102
        },
        "outputId": "0ea876ce-9dc7-4146-e1ed-ecd686cdefbd"
      },
      "source": [
        " df2 = pd.DataFrame({'X': [ 'x5', 'x6', 'x7','x8'],\n",
        "                    'Y': [ 'x5', 'x6', 'x7','x8'],\n",
        "                    'Z': ['z5', 'z6', 'z7','z8'],\n",
        "                    'T': ['t5', 't6', 't7','t8']}\n",
        "                   )\n",
        " print(df2)"
      ],
      "execution_count": 56,
      "outputs": [
        {
          "output_type": "stream",
          "text": [
            "    X   Y   Z   T\n",
            "0  x5  x5  z5  t5\n",
            "1  x6  x6  z6  t6\n",
            "2  x7  x7  z7  t7\n",
            "3  x8  x8  z8  t8\n"
          ],
          "name": "stdout"
        }
      ]
    },
    {
      "cell_type": "code",
      "metadata": {
        "id": "8wdBXWRreq_c",
        "colab_type": "code",
        "colab": {
          "base_uri": "https://localhost:8080/",
          "height": 102
        },
        "outputId": "057ea886-0d3b-4f64-9aea-7f7cb8058ee8"
      },
      "source": [
        "df3 = pd.DataFrame({'X': ['x9', 'x10', 'x11','x12'],\n",
        "                    'Y': ['y9', 'y10', 'y11', 'y12'],\n",
        "                    'Z': [ 'z9', 'z10', 'z11','z12'],\n",
        "                     'T': [ 't9', 't10', 't11','t12']}\n",
        "                  )\n",
        "\n",
        "print(df3)"
      ],
      "execution_count": 57,
      "outputs": [
        {
          "output_type": "stream",
          "text": [
            "     X    Y    Z    T\n",
            "0   x9   y9   z9   t9\n",
            "1  x10  y10  z10  t10\n",
            "2  x11  y11  z11  t11\n",
            "3  x12  y12  z12  t12\n"
          ],
          "name": "stdout"
        }
      ]
    },
    {
      "cell_type": "code",
      "metadata": {
        "id": "F4W3ipO_fN_m",
        "colab_type": "code",
        "colab": {
          "base_uri": "https://localhost:8080/",
          "height": 102
        },
        "outputId": "34d6abd9-05ef-443b-ab60-933afe1eb5e8"
      },
      "source": [
        "result = pd.concat([df1, df2], axis=1, sort=False)\n",
        "print(result)"
      ],
      "execution_count": 58,
      "outputs": [
        {
          "output_type": "stream",
          "text": [
            "    X   Y   Z   T   X   Y   Z   T\n",
            "0  x1  y1  z1  t1  x5  x5  z5  t5\n",
            "1  x2  y2  z2  t2  x6  x6  z6  t6\n",
            "2  x3  y3  z3  t3  x7  x7  z7  t7\n",
            "3  x4  y4  z3  t4  x8  x8  z8  t8\n"
          ],
          "name": "stdout"
        }
      ]
    },
    {
      "cell_type": "code",
      "metadata": {
        "id": "Zhnmbu6KfSmA",
        "colab_type": "code",
        "colab": {
          "base_uri": "https://localhost:8080/",
          "height": 170
        },
        "outputId": "5955d25a-6cc4-4321-8dbe-b6ef0c7e8c4c"
      },
      "source": [
        "result = pd.concat([df1, df2], axis=0, sort=False).reset_index(drop=True)\n",
        "print(result)"
      ],
      "execution_count": 59,
      "outputs": [
        {
          "output_type": "stream",
          "text": [
            "    X   Y   Z   T\n",
            "0  x1  y1  z1  t1\n",
            "1  x2  y2  z2  t2\n",
            "2  x3  y3  z3  t3\n",
            "3  x4  y4  z3  t4\n",
            "4  x5  x5  z5  t5\n",
            "5  x6  x6  z6  t6\n",
            "6  x7  x7  z7  t7\n",
            "7  x8  x8  z8  t8\n"
          ],
          "name": "stdout"
        }
      ]
    },
    {
      "cell_type": "code",
      "metadata": {
        "id": "JxfDk896fSAF",
        "colab_type": "code",
        "colab": {
          "base_uri": "https://localhost:8080/",
          "height": 102
        },
        "outputId": "f288e077-516e-496a-a855-eaa7e4f6bb1a"
      },
      "source": [
        "#left join on a particular key\n",
        "result = pd.merge(df1, df2,on='X', how='left').reset_index(drop=True)\n",
        "print(result)"
      ],
      "execution_count": 60,
      "outputs": [
        {
          "output_type": "stream",
          "text": [
            "    X Y_x Z_x T_x  Y_y  Z_y  T_y\n",
            "0  x1  y1  z1  t1  NaN  NaN  NaN\n",
            "1  x2  y2  z2  t2  NaN  NaN  NaN\n",
            "2  x3  y3  z3  t3  NaN  NaN  NaN\n",
            "3  x4  y4  z3  t4  NaN  NaN  NaN\n"
          ],
          "name": "stdout"
        }
      ]
    },
    {
      "cell_type": "code",
      "metadata": {
        "id": "QtO23DOyf-cx",
        "colab_type": "code",
        "colab": {
          "base_uri": "https://localhost:8080/",
          "height": 102
        },
        "outputId": "85d3410d-1f90-4d09-d960-727996c83cac"
      },
      "source": [
        "#left join on more than one keys\n",
        "result = pd.merge(df1, df2,on=['X','Y'], how='left').reset_index(drop=True)\n",
        "print(result)"
      ],
      "execution_count": 61,
      "outputs": [
        {
          "output_type": "stream",
          "text": [
            "    X   Y Z_x T_x  Z_y  T_y\n",
            "0  x1  y1  z1  t1  NaN  NaN\n",
            "1  x2  y2  z2  t2  NaN  NaN\n",
            "2  x3  y3  z3  t3  NaN  NaN\n",
            "3  x4  y4  z3  t4  NaN  NaN\n"
          ],
          "name": "stdout"
        }
      ]
    },
    {
      "cell_type": "code",
      "metadata": {
        "id": "MjTJsPW3e0w2",
        "colab_type": "code",
        "colab": {
          "base_uri": "https://localhost:8080/",
          "height": 102
        },
        "outputId": "e4dac972-f33f-46d7-a2ab-141d9412397f"
      },
      "source": [
        "# right join on a particular key\n",
        "result = pd.merge(df1, df2,on='X', how='right').reset_index(drop=True)\n",
        "print(result)"
      ],
      "execution_count": 62,
      "outputs": [
        {
          "output_type": "stream",
          "text": [
            "    X  Y_x  Z_x  T_x Y_y Z_y T_y\n",
            "0  x5  NaN  NaN  NaN  x5  z5  t5\n",
            "1  x6  NaN  NaN  NaN  x6  z6  t6\n",
            "2  x7  NaN  NaN  NaN  x7  z7  t7\n",
            "3  x8  NaN  NaN  NaN  x8  z8  t8\n"
          ],
          "name": "stdout"
        }
      ]
    },
    {
      "cell_type": "code",
      "metadata": {
        "id": "b6ioNuG3ZIus",
        "colab_type": "code",
        "colab": {
          "base_uri": "https://localhost:8080/",
          "height": 102
        },
        "outputId": "ba896a98-bf4f-4877-f44e-d34ce8f8f084"
      },
      "source": [
        "# right join on more than one key\n",
        "result = pd.merge(df1, df2,on=['X','Y'], how='right').reset_index(drop=True)\n",
        "print(result)"
      ],
      "execution_count": 63,
      "outputs": [
        {
          "output_type": "stream",
          "text": [
            "    X   Y  Z_x  T_x Z_y T_y\n",
            "0  x5  x5  NaN  NaN  z5  t5\n",
            "1  x6  x6  NaN  NaN  z6  t6\n",
            "2  x7  x7  NaN  NaN  z7  t7\n",
            "3  x8  x8  NaN  NaN  z8  t8\n"
          ],
          "name": "stdout"
        }
      ]
    },
    {
      "cell_type": "code",
      "metadata": {
        "id": "nDr-DLilgfN_",
        "colab_type": "code",
        "colab": {
          "base_uri": "https://localhost:8080/",
          "height": 170
        },
        "outputId": "9bfde8f3-6a8c-478d-9182-393d169a62e7"
      },
      "source": [
        "# Outer join on a perticular key\n",
        "result = pd.merge(df1, df2,on='X', how='outer').reset_index(drop=True)\n",
        "print(result)"
      ],
      "execution_count": 64,
      "outputs": [
        {
          "output_type": "stream",
          "text": [
            "    X  Y_x  Z_x  T_x  Y_y  Z_y  T_y\n",
            "0  x1   y1   z1   t1  NaN  NaN  NaN\n",
            "1  x2   y2   z2   t2  NaN  NaN  NaN\n",
            "2  x3   y3   z3   t3  NaN  NaN  NaN\n",
            "3  x4   y4   z3   t4  NaN  NaN  NaN\n",
            "4  x5  NaN  NaN  NaN   x5   z5   t5\n",
            "5  x6  NaN  NaN  NaN   x6   z6   t6\n",
            "6  x7  NaN  NaN  NaN   x7   z7   t7\n",
            "7  x8  NaN  NaN  NaN   x8   z8   t8\n"
          ],
          "name": "stdout"
        }
      ]
    },
    {
      "cell_type": "code",
      "metadata": {
        "id": "YG1ThdXIgnVh",
        "colab_type": "code",
        "colab": {
          "base_uri": "https://localhost:8080/",
          "height": 170
        },
        "outputId": "be3ec3f1-8293-4cea-f120-2b34f2c0786b"
      },
      "source": [
        "# Outer join more then one key\n",
        "result = pd.merge(df1, df2,on=['X','Y'], how='outer').reset_index(drop=True)\n",
        "print(result)"
      ],
      "execution_count": 65,
      "outputs": [
        {
          "output_type": "stream",
          "text": [
            "    X   Y  Z_x  T_x  Z_y  T_y\n",
            "0  x1  y1   z1   t1  NaN  NaN\n",
            "1  x2  y2   z2   t2  NaN  NaN\n",
            "2  x3  y3   z3   t3  NaN  NaN\n",
            "3  x4  y4   z3   t4  NaN  NaN\n",
            "4  x5  x5  NaN  NaN   z5   t5\n",
            "5  x6  x6  NaN  NaN   z6   t6\n",
            "6  x7  x7  NaN  NaN   z7   t7\n",
            "7  x8  x8  NaN  NaN   z8   t8\n"
          ],
          "name": "stdout"
        }
      ]
    },
    {
      "cell_type": "code",
      "metadata": {
        "id": "f_SAsZD3gwGf",
        "colab_type": "code",
        "colab": {}
      },
      "source": [
        ""
      ],
      "execution_count": 0,
      "outputs": []
    },
    {
      "cell_type": "code",
      "metadata": {
        "id": "ljxXf0Uh0nJ_",
        "colab_type": "code",
        "colab": {}
      },
      "source": [
        ""
      ],
      "execution_count": 0,
      "outputs": []
    }
  ]
}